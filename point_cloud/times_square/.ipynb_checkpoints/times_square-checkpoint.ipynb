{
 "cells": [
  {
   "cell_type": "code",
   "execution_count": 2,
   "id": "6b7cc3e0",
   "metadata": {},
   "outputs": [],
   "source": [
    "global center_lat, center_lon, center_heading\n",
    "\n",
    "\n",
    "\n",
    "center_lat = 40.75794805357645\n",
    "center_lon = -73.98553867868135\n",
    "center_heading = 204.50131\n",
    "# center_heading = 129.6586\n",
    "\n",
    "# 37.76884991868723_-122.38931656272395_129.6586\n",
    "\n",
    "# 37.768883652159936_-122.38908075369999_267.82532\n",
    "# 37.76884991868723_-122.38931656272395_129.6586_depth\n",
    "# 37.7686343541031_-122.38919416338447_355.85876\n",
    "\n",
    "# center_lat = 37.768883652159936\n",
    "# center_lon = -122.38908075369999\n",
    "# center_heading = 267.82532"
   ]
  },
  {
   "cell_type": "code",
   "execution_count": 3,
   "id": "45d07925",
   "metadata": {},
   "outputs": [],
   "source": [
    "import numpy as np\n",
    "import skimage as sk\n",
    "import skimage.io as skio\n",
    "import json\n",
    "import copy\n",
    "import triangle\n",
    "import matplotlib.pyplot as plt\n",
    "import skimage as ski\n",
    "from PIL import Image\n",
    "import imageio\n",
    "import os\n",
    "from tqdm import tqdm\n",
    "import cv2\n",
    "from scipy import signal\n",
    "import numpy as np\n",
    "import copy"
   ]
  },
  {
   "cell_type": "code",
   "execution_count": 4,
   "id": "d794575f",
   "metadata": {},
   "outputs": [],
   "source": [
    "from math import radians, sin, cos, sqrt, atan2\n",
    "\n",
    "def haversine(lat1, lon1, lat2, lon2):\n",
    "    # Convert latitude and longitude from degrees to radians\n",
    "    lat1, lon1, lat2, lon2 = map(radians, [lat1, lon1, lat2, lon2])\n",
    "\n",
    "    # Haversine formula\n",
    "    dlat = lat2 - lat1\n",
    "    dlon = lon2 - lon1\n",
    "    a = sin(dlat / 2)**2 + cos(lat1) * cos(lat2) * sin(dlon / 2)**2\n",
    "    c = 2 * atan2(sqrt(a), sqrt(1 - a))\n",
    "    radius_of_earth = 6371 * 1000  # Radius of Earth in kilometers. Use 3959 for miles.\n",
    "\n",
    "    # Calculate the distance\n",
    "    distance = radius_of_earth * c\n",
    "\n",
    "    return distance\n",
    "\n",
    "# # Example usage:\n",
    "# lat1 = 37.76883408483024 # Latitude of the first point\n",
    "# lon1 = -122.38892071430969  # Longitude of the first point\n",
    "# lat2 = 37.76882967189774  # Latitude of the second point\n",
    "# lon2 = -122.38884535002529  # Longitude of the second point\n",
    "\n",
    "# distance = haversine(lat1, lon1, lat2, lon2)\n",
    "# print(f\"The distance between the two points is {distance:.2f} m.\")"
   ]
  },
  {
   "cell_type": "code",
   "execution_count": 5,
   "id": "6a754389",
   "metadata": {},
   "outputs": [],
   "source": [
    "class Scene():\n",
    "    def __init__(self, img_path, depth_path):\n",
    "#         self.depth = skio.imread(depth_path)\n",
    "#         self.depth = sk.img_as_float(self.depth)[:,:,0]\n",
    "        data_array = np.genfromtxt(depth_path, delimiter=',', dtype=float)\n",
    "        self.depth = data_array\n",
    "        self.colors = skio.imread(img_path)\n",
    "        self.colors = sk.img_as_float(self.colors)[:,:,:3]\n",
    "        self.points = []\n",
    "        self.w = self.colors.shape[1]\n",
    "        self.h = self.colors.shape[0]\n",
    "        self.selected_index  = []\n",
    "        self.displacement = np.array([0,0,0])\n",
    "        self.rotation_matrix = None\n",
    "        img_path_split = img_path[:-4].split(\"_\")\n",
    "        self.lat = float(img_path_split[0])\n",
    "        self.lon = float(img_path_split[1])\n",
    "#         print(img_path_split)\n",
    "        self.heading = float(img_path_split[2])\n",
    "    \n",
    "    def calcualte_displacement(self, lat1=center_lat, lon1=center_lon,heading1=center_heading):\n",
    "            lat2 = self.lat\n",
    "            lon2 = self.lon\n",
    "            heading2 = self.heading\n",
    "            # Convert latitude and longitude from degrees to radians\n",
    "            lat1, lon1, lat2, lon2 = map(radians, [lat1, lon1, lat2, lon2])\n",
    "\n",
    "            # Haversine formula\n",
    "            dlat = lat2 - lat1\n",
    "            dlon = lon2 - lon1\n",
    "            a = sin(dlat / 2)**2 + cos(lat1) * cos(lat2) * sin(dlon / 2)**2\n",
    "            c = 2 * atan2(sqrt(a), sqrt(1 - a))\n",
    "            radius_of_earth = 6371 * 1000  # Radius of Earth in kilometers. Use 3959 for miles.\n",
    "\n",
    "            # Calculate the distance\n",
    "            distance = radius_of_earth * c\n",
    "            print(distance)\n",
    "            dheading = (heading2 - heading1)/180*3.14159\n",
    "            rotation_matrix = np.array([[np.cos(dheading),-np.sin(dheading),0],\n",
    "                                       [np.sin(dheading),np.cos(dheading),0],\n",
    "                                       [0,0,1]])\n",
    "            self.rotation_matrix = rotation_matrix\n",
    "#             self.displacement = np.array()\n",
    "#             return distance\n",
    "\n",
    "    \n",
    "    def calculate_xyz_coordinate(self):\n",
    "        self.calcualte_displacement()\n",
    "        total_count = 0\n",
    "        for i in range(self.h):\n",
    "            for j in range(self.w):\n",
    "                phi = (1-(self.w-j-1)/(self.w-1)) * 2* 3.14159 - 3.14159\n",
    "                theta = (self.h-i-1)/(self.h-1) * 3.14159\n",
    "                v = np.array([np.sin(theta)*np.cos(phi), np.sin(theta)*np.sin(phi), -np.cos(theta)])\n",
    "                \n",
    "#                 if total_count == 39596:\n",
    "#                     print(v,self.depth[i,j])\n",
    "                v = v @ self.rotation_matrix\n",
    "                if self.depth[i,j] < 1e7:\n",
    "#                     if total_count == 39596:\n",
    "#                         print(copy.copy(v*self.depth[i,j])\n",
    "                    self.points.append(copy.copy(v*self.depth[i,j]) + self.displacement)\n",
    "                    self.selected_index.append(i*self.w + j)\n",
    "                total_count+=1\n",
    "    "
   ]
  },
  {
   "cell_type": "code",
   "execution_count": 6,
   "id": "a691aeaf",
   "metadata": {},
   "outputs": [],
   "source": [
    "# def calculate_cart_coordinate(depth, displacement = np.array([0,0,0])):\n",
    "#     points = []\n",
    "#     selected_index = []\n",
    "#     for i in range(h):\n",
    "#         for j in range(w):\n",
    "#             phi = (1-(w-j-1)/(w-1)) * 2* 3.14159 - 3.14159\n",
    "#             theta = (h-i-1)/(h-1) * 3.14159\n",
    "            \n",
    "# #             phi = (w-i)/(w) * 2* 3.14159\n",
    "# #             theta = (1-(h-j)/(h)) * 3.14159\n",
    "#             v = np.array([np.sin(theta)*np.cos(phi), np.sin(theta)*np.sin(phi), np.cos(theta)])\n",
    "# #             points.append(copy.copy(v*depth[j,i]*1000))\n",
    "#             if depth[i,j] != 1:\n",
    "#                 points.append(copy.copy(v*depth[i,j]*255 ) + displacement)\n",
    "                \n",
    "#                 selected_index.append(i*w + j)\n",
    "#     return points, selected_index"
   ]
  },
  {
   "cell_type": "code",
   "execution_count": 7,
   "id": "23852f44",
   "metadata": {},
   "outputs": [
    {
     "data": {
      "text/plain": [
       "['40.75794805357645_-73.98553867868135_204.50131.csv',\n",
       " '40.75812700394543_-73.98544263890469_208.43321.csv',\n",
       " '40.75828229336389_-73.98533018890905_209.31956.csv',\n",
       " '40.75843655632809_-73.98522007034872_207.89609.csv']"
      ]
     },
     "execution_count": 7,
     "metadata": {},
     "output_type": "execute_result"
    }
   ],
   "source": [
    "\n",
    "\n",
    "img_paths = [\"40.75794805357645_-73.98553867868135_204.50131.png\",\n",
    "             \"40.75812700394543_-73.98544263890469_208.43321.png\",\n",
    "            \"40.758204963957915_-73.9853870416264_208.63332.png\",\n",
    "            \"40.75828229336389_-73.98533018890905_209.31956.png\",\n",
    "            \"40.7583595854157_-73.98527360519417_208.13182.png\",\n",
    "            \"40.75843655632809_-73.98522007034872_207.89609.png\",\n",
    "            \"40.75851027726113_-73.98516859797068_207.93457.png\"]\n",
    "\n",
    "img_paths = [\"40.75794805357645_-73.98553867868135_204.50131.png\",\n",
    "             \"40.75812700394543_-73.98544263890469_208.43321.png\",\n",
    "\n",
    "            \"40.75828229336389_-73.98533018890905_209.31956.png\",\n",
    "\n",
    "            \"40.75843655632809_-73.98522007034872_207.89609.png\",]\n",
    "\n",
    "# color_paths = [\"37.768900652202035_-122.38887243223877_264.93262_depth.png\"]\n",
    "# scenes = []\n",
    "depth_paths = []\n",
    "# for i in range(len(img_paths)):\n",
    "#     temp = img_paths[i][:-4].split(\"_\")\n",
    "#     temp = \"_\".join(temp) + \"_\" + \"depth\"+ \".png\"\n",
    "#     depth_paths.append(temp)\n",
    "\n",
    "for i in range(len(img_paths)):\n",
    "    temp = img_paths[i][:-4].split(\"_\")\n",
    "    temp = \"_\".join(temp) + \".csv\"\n",
    "    depth_paths.append(temp)\n",
    "depth_paths"
   ]
  },
  {
   "cell_type": "code",
   "execution_count": 8,
   "id": "bd3541e5",
   "metadata": {},
   "outputs": [],
   "source": [
    "# for img_path, color_path in zip(img_paths, color_paths):\n",
    "#     print(img_path)"
   ]
  },
  {
   "cell_type": "code",
   "execution_count": 9,
   "id": "a46e3310",
   "metadata": {},
   "outputs": [],
   "source": [
    "# haversine(37.787375776479095, -122.40826668898664, 37.787599568596534, -122.40665511724181)"
   ]
  },
  {
   "cell_type": "code",
   "execution_count": 10,
   "id": "4c45c2c2",
   "metadata": {},
   "outputs": [],
   "source": [
    "# displacements = [(-21.48,0,0),(-31.3,0,0),(-41.1,0,0),(-50.9,0,0),(-60.6,0,0),(-69.85,0,0)]\n",
    "displacements = [(-21.48,0,0),(-41.1,0,0),(-60.6,0,0)]"
   ]
  },
  {
   "cell_type": "code",
   "execution_count": 11,
   "id": "28e26f85",
   "metadata": {},
   "outputs": [],
   "source": [
    "scenes = []\n",
    "for img_path, depth_path in zip(img_paths, depth_paths):\n",
    "    temp = Scene(img_path, depth_path)\n",
    "    scenes.append(copy.deepcopy(temp))\n",
    "for i in range(len(displacements)):\n",
    "    scenes[i+1].displacement = np.array(displacements[i])\n",
    "# scenes[1].displacement = np.array([-21.064,0,0])\n",
    "# scenes[1].displacement = np.array([-10,46.13,0])\n",
    "# scenes[2].displacement = np.array([-21.06,-3,0])\n",
    "# scenes[3].displacement = np.array([-49.2,-3,0])\n",
    "# scenes[4].displacement = np.array([10.46,-37,0])\n",
    "# scenes[5].displacement = np.array([-10,107.27,0])"
   ]
  },
  {
   "cell_type": "code",
   "execution_count": 12,
   "id": "25066573",
   "metadata": {},
   "outputs": [
    {
     "name": "stdout",
     "output_type": "stream",
     "text": [
      "0.0\n",
      "21.479752963707714\n",
      "41.105536619699436\n",
      "60.58627576750001\n"
     ]
    }
   ],
   "source": [
    "for scene in scenes:\n",
    "    scene.calculate_xyz_coordinate()"
   ]
  },
  {
   "cell_type": "code",
   "execution_count": 13,
   "id": "de7bdff1",
   "metadata": {},
   "outputs": [],
   "source": [
    "# ddd = copy.deepcopy(scenes[0].depth)\n",
    "# ddd = ddd.reshape(-1)\n",
    "\n",
    "# print(ddd[scenes[0].selected_index]*255)"
   ]
  },
  {
   "cell_type": "code",
   "execution_count": 14,
   "id": "c667d9c9",
   "metadata": {},
   "outputs": [],
   "source": [
    "# print(scenes[1].rotation_matrix)"
   ]
  },
  {
   "cell_type": "code",
   "execution_count": 15,
   "id": "226158db",
   "metadata": {},
   "outputs": [],
   "source": [
    "points = []\n",
    "colors = None"
   ]
  },
  {
   "cell_type": "code",
   "execution_count": 16,
   "id": "1a63bb77",
   "metadata": {},
   "outputs": [
    {
     "name": "stdout",
     "output_type": "stream",
     "text": [
      "<class 'NoneType'>\n"
     ]
    }
   ],
   "source": [
    "print(type(None))"
   ]
  },
  {
   "cell_type": "code",
   "execution_count": 17,
   "id": "ce30050a",
   "metadata": {},
   "outputs": [],
   "source": [
    "for scene in scenes:\n",
    "    temp_points = scene.points\n",
    "#     print(temp_points)\n",
    "    points += temp_points\n",
    "    temp_colors = scene.colors\n",
    "    temp_colors = temp_colors.reshape(-1,3)\n",
    "    temp_colors = temp_colors[scene.selected_index]\n",
    "#     temp_colors = list(temp_colors)\n",
    "#     print(temp_colors)\n",
    "    if colors is None:\n",
    "        colors = temp_colors\n",
    "    else:\n",
    "        colors =  np.concatenate((colors, temp_colors),axis=0)\n",
    "#     print(type(temp_colors))"
   ]
  },
  {
   "cell_type": "code",
   "execution_count": 18,
   "id": "902befd0",
   "metadata": {},
   "outputs": [
    {
     "name": "stdout",
     "output_type": "stream",
     "text": [
      "(351969, 3)\n",
      "(351969, 3)\n"
     ]
    }
   ],
   "source": [
    "points = np.array(points)\n",
    "print(points.shape)\n",
    "print(colors.shape)"
   ]
  },
  {
   "cell_type": "code",
   "execution_count": 19,
   "id": "75c92713",
   "metadata": {},
   "outputs": [
    {
     "name": "stdout",
     "output_type": "stream",
     "text": [
      "165.74187476528346\n"
     ]
    }
   ],
   "source": [
    "print(np.max(points[:,0])-np.min(points[:,0]))"
   ]
  },
  {
   "cell_type": "code",
   "execution_count": 20,
   "id": "2feec6be",
   "metadata": {},
   "outputs": [
    {
     "name": "stdout",
     "output_type": "stream",
     "text": [
      "128.74149325609955\n"
     ]
    }
   ],
   "source": [
    "print(np.max(points[:,1])-np.min(points[:,1]))"
   ]
  },
  {
   "cell_type": "code",
   "execution_count": 21,
   "id": "42bd8ebb",
   "metadata": {},
   "outputs": [
    {
     "name": "stdout",
     "output_type": "stream",
     "text": [
      "53.070657321234904\n"
     ]
    }
   ],
   "source": [
    "print(np.max(points[:,2])-np.min(points[:,2]))"
   ]
  },
  {
   "cell_type": "code",
   "execution_count": 22,
   "id": "56e4c684",
   "metadata": {},
   "outputs": [],
   "source": [
    "# distances = np.linalg.norm(points[:, np.newaxis, :] - points, axis=2)\n",
    "\n",
    "# # Set diagonal elements to zero to avoid comparing a point to itself\n",
    "# np.fill_diagonal(distances, 0)\n",
    "\n",
    "# # Find the maximum distance\n",
    "# max_distance = np.max(distances)"
   ]
  },
  {
   "cell_type": "code",
   "execution_count": null,
   "id": "63425f82",
   "metadata": {},
   "outputs": [
    {
     "name": "stdout",
     "output_type": "stream",
     "text": [
      "[Open3D DEBUG] Input Points / Samples: 351969 / 255135\n",
      "[Open3D DEBUG] #   Got kernel density: 0.366899 (s), 795.473 (MB) / 795.473 (MB) / 795 (MB)\n"
     ]
    }
   ],
   "source": [
    "import open3d as o3d\n",
    "import numpy as np\n",
    "\n",
    "# Define a list of points (replace this with your own coordinates)\n",
    "points = np.array(points)\n",
    "# Create a point cloud\n",
    "mesh_frame = o3d.geometry.TriangleMesh.create_coordinate_frame(size=1.0, origin=[0, 0, 0])\n",
    "point_cloud = o3d.geometry.PointCloud()\n",
    "point_cloud.points = o3d.utility.Vector3dVector(points)\n",
    "point_cloud.colors = o3d.utility.Vector3dVector(colors)\n",
    "\n",
    "\n",
    "# kdtree = o3d.geometry.KDTreeFlann(point_cloud)\n",
    "# distances, _ = kdtree.search_knn_vector_3d(point_cloud.points, k=2)  # k=2 to get the distances to the two nearest neighbors\n",
    "\n",
    "# # Extract the farthest neighbor distance for each point\n",
    "# farthest_distances = np.max(distances, axis=1)\n",
    "\n",
    "# # Print the maximum distance\n",
    "# max_distance = np.max(farthest_distances)\n",
    "# print(\"Maximum Distance:\", max_distance)\n",
    "\n",
    "\n",
    "# point_cloud.estimate_normals()\n",
    "# # print('run Poisson surface reconstruction')\n",
    "# with o3d.utility.VerbosityContextManager(\n",
    "#         o3d.utility.VerbosityLevel.Debug) as cm:\n",
    "#     mesh, densities = o3d.geometry.TriangleMesh.create_from_point_cloud_poisson(\n",
    "#         point_cloud, depth=12)\n",
    "# vertices_to_remove = densities < np.quantile(densities, 0.01)\n",
    "# mesh.remove_vertices_by_mask(vertices_to_remove)\n",
    "# # # print(mesh)\n",
    "# o3d.visualization.draw_geometries([mesh])\n",
    "\n",
    "\n",
    "\n",
    "\n",
    "\n",
    "\n",
    "point_cloud.estimate_normals()\n",
    "# print('run Poisson surface reconstruction')\n",
    "with o3d.utility.VerbosityContextManager(\n",
    "        o3d.utility.VerbosityLevel.Debug) as cm:\n",
    "    mesh, densities = o3d.geometry.TriangleMesh.create_from_point_cloud_poisson(\n",
    "        point_cloud, depth=12)\n",
    "vertices_to_remove = densities < np.quantile(densities, 0.001)\n",
    "mesh.remove_vertices_by_mask(vertices_to_remove)\n",
    "# print(mesh)\n",
    "o3d.visualization.draw_geometries([mesh])\n",
    "\n",
    "# Visualize the point cloud\n",
    "# o3d.visualization.draw_geometries([mesh_frame, point_cloud])\n",
    "# o3d.visualization.draw_geometries([], window_name=\"Open3D\", width=800, height=600)"
   ]
  },
  {
   "cell_type": "code",
   "execution_count": null,
   "id": "3bd86334",
   "metadata": {},
   "outputs": [],
   "source": []
  },
  {
   "cell_type": "code",
   "execution_count": null,
   "id": "b79a6fab",
   "metadata": {},
   "outputs": [],
   "source": []
  }
 ],
 "metadata": {
  "kernelspec": {
   "display_name": "Python 3 (ipykernel)",
   "language": "python",
   "name": "python3"
  },
  "language_info": {
   "codemirror_mode": {
    "name": "ipython",
    "version": 3
   },
   "file_extension": ".py",
   "mimetype": "text/x-python",
   "name": "python",
   "nbconvert_exporter": "python",
   "pygments_lexer": "ipython3",
   "version": "3.9.13"
  }
 },
 "nbformat": 4,
 "nbformat_minor": 5
}
