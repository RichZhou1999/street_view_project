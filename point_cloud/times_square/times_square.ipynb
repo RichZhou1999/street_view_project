{
 "cells": [
  {
   "cell_type": "code",
   "execution_count": 1,
   "id": "6b7cc3e0",
   "metadata": {},
   "outputs": [],
   "source": [
    "global center_lat, center_lon, center_heading\n",
    "\n",
    "\n",
    "\n",
    "center_lat = 40.75794805357645\n",
    "center_lon = -73.98553867868135\n",
    "center_heading = 204.501\n"
   ]
  },
  {
   "cell_type": "code",
   "execution_count": 11,
   "id": "45d07925",
   "metadata": {},
   "outputs": [],
   "source": [
    "import numpy as np\n",
    "import skimage as sk\n",
    "import skimage.io as skio\n",
    "import json\n",
    "import copy\n",
    "import triangle\n",
    "import matplotlib.pyplot as plt\n",
    "import skimage as ski\n",
    "from PIL import Image\n",
    "import imageio\n",
    "import os\n",
    "from tqdm import tqdm\n",
    "import cv2\n",
    "from scipy import signal\n",
    "import numpy as np\n",
    "import copy\n",
    "import open3d as o3d"
   ]
  },
  {
   "cell_type": "code",
   "execution_count": 3,
   "id": "d794575f",
   "metadata": {},
   "outputs": [],
   "source": [
    "from math import radians, sin, cos, sqrt, atan2\n",
    "\n",
    "def haversine(lat1, lon1, lat2, lon2):\n",
    "    # Convert latitude and longitude from degrees to radians\n",
    "    lat1, lon1, lat2, lon2 = map(radians, [lat1, lon1, lat2, lon2])\n",
    "\n",
    "    # Haversine formula\n",
    "    dlat = lat2 - lat1\n",
    "    dlon = lon2 - lon1\n",
    "    a = sin(dlat / 2)**2 + cos(lat1) * cos(lat2) * sin(dlon / 2)**2\n",
    "    c = 2 * atan2(sqrt(a), sqrt(1 - a))\n",
    "    radius_of_earth = 6371 * 1000  # Radius of Earth in kilometers. Use 3959 for miles.\n",
    "\n",
    "    # Calculate the distance\n",
    "    distance = radius_of_earth * c\n",
    "\n",
    "    return distance\n",
    "\n",
    "# # Example usage:\n",
    "# lat1 = 37.76883408483024 # Latitude of the first point\n",
    "# lon1 = -122.38892071430969  # Longitude of the first point\n",
    "# lat2 = 37.76882967189774  # Latitude of the second point\n",
    "# lon2 = -122.38884535002529  # Longitude of the second point\n",
    "\n",
    "# distance = haversine(lat1, lon1, lat2, lon2)\n",
    "# print(f\"The distance between the two points is {distance:.2f} m.\")"
   ]
  },
  {
   "cell_type": "code",
   "execution_count": 4,
   "id": "6a754389",
   "metadata": {},
   "outputs": [],
   "source": [
    "class Scene():\n",
    "    def __init__(self, img_path, depth_path):\n",
    "#         self.depth = skio.imread(depth_path)\n",
    "#         self.depth = sk.img_as_float(self.depth)[:,:,0]\n",
    "        data_array = np.genfromtxt(depth_path, delimiter=',', dtype=float)\n",
    "        self.depth = data_array\n",
    "        self.colors = skio.imread(img_path)\n",
    "        self.colors = sk.img_as_float(self.colors)[:,:,:3]\n",
    "        self.points = []\n",
    "        self.w = self.colors.shape[1]\n",
    "        self.h = self.colors.shape[0]\n",
    "        self.selected_index  = []\n",
    "        self.displacement = np.array([0,0,0])\n",
    "        self.rotation_matrix = None\n",
    "        img_path_split = img_path[:-4].split(\"_\")\n",
    "        self.lat = float(img_path_split[0])\n",
    "        self.lon = float(img_path_split[1])\n",
    "#         print(img_path_split)\n",
    "        self.heading = float(img_path_split[2])\n",
    "    \n",
    "    def calculate_initial_compass_bearing(self, lat1, lon1, lat2, lon2):\n",
    "        \"\"\"\n",
    "        Calculates the initial compass bearing between two points.\n",
    "\n",
    "        Parameters:\n",
    "        - lat1, lon1: Latitude and longitude of the starting point (in degrees)\n",
    "        - lat2, lon2: Latitude and longitude of the destination point (in degrees)\n",
    "\n",
    "        Returns:\n",
    "        - Initial compass bearing in degrees (from 0 to 360)\n",
    "        \"\"\"\n",
    "\n",
    "        # Convert latitude and longitude from degrees to radians\n",
    "        lat1, lon1, lat2, lon2 = map(radians, [lat1, lon1, lat2, lon2])\n",
    "\n",
    "        # Calculate the differences in longitude\n",
    "        d_lon = lon2 - lon1\n",
    "\n",
    "        # Calculate the initial bearing using atan2\n",
    "        x = np.sin(d_lon) * np.cos(lat2)\n",
    "        y = np.cos(lat1) * np.sin(lat2) - (np.sin(lat1) * np.cos(lat2) * np.cos(d_lon))\n",
    "        initial_bearing = atan2(x, y)\n",
    "\n",
    "        # Convert the initial bearing from radians to degrees\n",
    "        initial_bearing = initial_bearing/3.14159 * 180\n",
    "\n",
    "        # Normalize the initial bearing to the range [0, 360)\n",
    "        initial_bearing = (initial_bearing + 360) % 360\n",
    "\n",
    "        return initial_bearing\n",
    "    \n",
    "    \n",
    "    def calcualte_displacement(self, lat1=center_lat, lon1=center_lon,heading1=center_heading):\n",
    "            lat2 = self.lat\n",
    "            lon2 = self.lon\n",
    "            heading2 = self.heading\n",
    "            \n",
    "            \n",
    "            dheading = self.calculate_initial_compass_bearing(lat1, lon1, lat2, lon2)\n",
    "            \n",
    "            # Convert latitude and longitude from degrees to radians\n",
    "            lat1, lon1, lat2, lon2 = map(radians, [lat1, lon1, lat2, lon2])\n",
    "\n",
    "            # Haversine formula\n",
    "            dlat = lat2 - lat1\n",
    "            dlon = lon2 - lon1\n",
    "            a = sin(dlat / 2)**2 + cos(lat1) * cos(lat2) * sin(dlon / 2)**2\n",
    "            c = 2 * atan2(sqrt(a), sqrt(1 - a))\n",
    "            radius_of_earth = 6371 * 1000  # Radius of Earth in kilometers. Use 3959 for miles.\n",
    "\n",
    "            # Calculate the distance\n",
    "            distance = radius_of_earth * c\n",
    "            print('distance', distance)\n",
    "\n",
    "            \n",
    "            print('dheading', dheading)\n",
    "            print('heading2', heading2)\n",
    "            dheading = dheading/180 * 3.14159\n",
    "            heading2 = heading2/180*3.14159\n",
    "            \n",
    "            rotation_matrix = np.array([[np.cos(heading2),np.sin(heading2),0],\n",
    "                           [-np.sin(heading2),np.cos(heading2),0],\n",
    "                           [0,0,1]])\n",
    "\n",
    "            self.rotation_matrix = rotation_matrix\n",
    "            self.displacement = [np.cos(dheading)*distance, np.sin(dheading)*distance, 0]\n",
    "    \n",
    "    \n",
    "    def calculate_xyz_coordinate(self):\n",
    "        self.calcualte_displacement()\n",
    "        total_count = 0\n",
    "        for i in range(self.h):\n",
    "            for j in range(self.w):\n",
    "                phi = (1-(self.w-j-1)/(self.w-1)) * 2* 3.14159 - 3.14159\n",
    "                theta = (self.h-i-1)/(self.h-1) * 3.14159\n",
    "                v = np.array([np.sin(theta)*np.cos(phi), np.sin(theta)*np.sin(phi), -np.cos(theta)])\n",
    "                \n",
    "#                 if total_count == 39596:\n",
    "#                     print(v,self.depth[i,j])\n",
    "                v = v @ self.rotation_matrix\n",
    "                if self.depth[i,j] < 1e7:\n",
    "#                     if total_count == 39596:\n",
    "#                         print(copy.copy(v*self.depth[i,j])\n",
    "                    self.points.append(copy.copy(v*self.depth[i,j]) + self.displacement)\n",
    "                    self.selected_index.append(i*self.w + j)\n",
    "                total_count+=1\n",
    "    "
   ]
  },
  {
   "cell_type": "code",
   "execution_count": 22,
   "id": "23852f44",
   "metadata": {},
   "outputs": [
    {
     "data": {
      "text/plain": [
       "['40.75778219278097_-73.98565525350915_209.27037.csv',\n",
       " '40.75828229336389_-73.98533018890905_209.31956.csv',\n",
       " '40.75843655632809_-73.98522007034872_207.89609.csv',\n",
       " '40.75747371868198_-73.985879615017_208.99036.csv',\n",
       " '40.75984725333619_-73.98419483482637_119.908005.csv',\n",
       " '40.75916381320082_-73.98466660705189_120.12806.csv',\n",
       " '40.7583595854157_-73.98527360519417_208.13182.csv',\n",
       " '40.7592856327775_-73.9847230115989_210.00974.csv',\n",
       " '40.7576839941884_-73.98487527689113_298.41705.csv',\n",
       " '40.75764187077263_-73.98477286997644_298.37045.csv',\n",
       " '40.75770365832646_-73.98571318220495_209.24088.csv',\n",
       " '40.758204963957915_-73.9853870416264_208.63332.csv',\n",
       " '40.75865260839955_-73.98522293988856_117.707985.csv',\n",
       " '40.75794805357645_-73.98553867868135_204.50131.csv',\n",
       " '40.75831113967238_-73.9863464511112_297.26767.csv',\n",
       " '40.75825022696765_-73.98619077942413_299.3132.csv',\n",
       " '40.759783343817595_-73.98498709944052_194.8386.csv',\n",
       " '40.75812700394543_-73.98544263890469_208.43321.csv',\n",
       " '40.76012669075528_-73.98481950010198_120.33599.csv',\n",
       " '40.75755712243159_-73.98456877337065_298.55942.csv',\n",
       " '40.758155549193695_-73.98599583094679_300.05267.csv',\n",
       " '40.75820320384766_-73.98609420193732_304.54727.csv',\n",
       " '40.75851027726113_-73.98516859797068_207.93457.csv']"
      ]
     },
     "execution_count": 22,
     "metadata": {},
     "output_type": "execute_result"
    }
   ],
   "source": [
    "\n",
    "\n",
    "im_dir = './'\n",
    "images = []\n",
    "img_paths = []\n",
    "# iterate over images in the directory\n",
    "for f in os.scandir(im_dir):\n",
    "    if f.is_file() and f.name.lower().endswith('.png'):\n",
    "        img_paths.append(f.path[2:])\n",
    "#         images.append(cv2.imread(f.path, cv2.IMREAD_COLOR))\n",
    "\n",
    "# img_paths = [\"40.75794805357645_-73.98553867868135_204.50131.png\",\n",
    "#              \"40.75812700394543_-73.98544263890469_208.43321.png\",\n",
    "#             \"40.758204963957915_-73.9853870416264_208.63332.png\",\n",
    "#             \"40.75828229336389_-73.98533018890905_209.31956.png\",\n",
    "#             \"40.7583595854157_-73.98527360519417_208.13182.png\",\n",
    "#             \"40.75843655632809_-73.98522007034872_207.89609.png\",\n",
    "#             \"40.75851027726113_-73.98516859797068_207.93457.png\"]\n",
    "\n",
    "# color_paths = [\"37.768900652202035_-122.38887243223877_264.93262_depth.png\"]\n",
    "# scenes = []\n",
    "depth_paths = []\n",
    "\n",
    "for i in range(len(img_paths)):\n",
    "    temp = img_paths[i][:-4].split(\"_\")\n",
    "    temp = \"_\".join(temp) + \".csv\"\n",
    "    depth_paths.append(temp)\n",
    "depth_paths"
   ]
  },
  {
   "cell_type": "code",
   "execution_count": null,
   "id": "8b304945",
   "metadata": {},
   "outputs": [],
   "source": []
  },
  {
   "cell_type": "code",
   "execution_count": 6,
   "id": "a46e3310",
   "metadata": {},
   "outputs": [],
   "source": [
    "# haversine(37.787375776479095, -122.40826668898664, 37.787599568596534, -122.40665511724181)"
   ]
  },
  {
   "cell_type": "code",
   "execution_count": 23,
   "id": "28e26f85",
   "metadata": {},
   "outputs": [],
   "source": [
    "scenes = []\n",
    "for img_path, depth_path in zip(img_paths, depth_paths):\n",
    "    temp = Scene(img_path, depth_path)\n",
    "    scenes.append(copy.deepcopy(temp))"
   ]
  },
  {
   "cell_type": "code",
   "execution_count": 24,
   "id": "25066573",
   "metadata": {},
   "outputs": [
    {
     "name": "stdout",
     "output_type": "stream",
     "text": [
      "distance 20.893744415768005\n",
      "dheading 208.03028217677058\n",
      "heading2 209.27037\n",
      "distance 41.105536619699436\n",
      "dheading 25.290263661772315\n",
      "heading2 209.31956\n",
      "distance 60.58627576750001\n",
      "dheading 26.290838007633\n",
      "heading2 207.89609\n",
      "distance 60.054260047319865\n",
      "dheading 208.56605110995503\n",
      "heading2 208.99036\n",
      "distance 239.60136189107402\n",
      "dheading 28.18952816179535\n",
      "heading2 119.908005\n",
      "distance 153.85210666137777\n",
      "dheading 28.516563285867505\n",
      "heading2 120.12806\n",
      "distance 50.91627451780336\n",
      "dheading 26.007614095451572\n",
      "heading2 208.13182\n",
      "distance 163.83225551591383\n",
      "dheading 24.792425479121846\n",
      "heading2 210.00974\n",
      "distance 63.121566106619206\n",
      "dheading 117.72090802492994\n",
      "heading2 298.41705\n",
      "distance 72.93597735243891\n",
      "dheading 117.82614732249823\n",
      "heading2 298.37045\n",
      "distance 30.895620333981277\n",
      "dheading 208.40685462170774\n",
      "heading2 209.24088\n",
      "distance 31.2922332499611\n",
      "dheading 24.08870869468427\n",
      "heading2 208.63332\n",
      "distance 82.73353441826079\n",
      "dheading 18.749814931556898\n",
      "heading2 117.707985\n",
      "distance 0.0\n",
      "dheading 0.0\n",
      "heading2 204.50131\n",
      "distance 79.11350185589622\n",
      "dheading 300.6854698006688\n",
      "heading2 297.26767\n",
      "distance 64.38694121945255\n",
      "dheading 301.4564064066561\n",
      "heading2 299.3132\n",
      "distance 209.29615496975674\n",
      "dheading 12.82457772326211\n",
      "heading2 194.8386\n",
      "distance 21.479752963707714\n",
      "dheading 22.12289770667337\n",
      "heading2 208.43321\n",
      "distance 249.71154908704185\n",
      "dheading 14.038276930210372\n",
      "heading2 120.33599\n",
      "distance 92.53815139133046\n",
      "dheading 118.01768682691932\n",
      "heading2 298.55942\n",
      "distance 44.88815263667262\n",
      "dheading 300.93066115985056\n",
      "heading2 300.05267\n",
      "distance 54.71978227203623\n",
      "dheading 301.23085072942473\n",
      "heading2 304.54727\n",
      "distance 69.85642402571169\n",
      "dheading 26.50080753684665\n",
      "heading2 207.93457\n"
     ]
    }
   ],
   "source": [
    "for scene in scenes:\n",
    "    scene.calculate_xyz_coordinate()"
   ]
  },
  {
   "cell_type": "code",
   "execution_count": 25,
   "id": "226158db",
   "metadata": {},
   "outputs": [],
   "source": [
    "points = []\n",
    "colors = None"
   ]
  },
  {
   "cell_type": "code",
   "execution_count": 26,
   "id": "ce30050a",
   "metadata": {},
   "outputs": [],
   "source": [
    "for scene in scenes:\n",
    "    temp_points = scene.points\n",
    "#     print(temp_points)\n",
    "    points += temp_points\n",
    "    temp_colors = scene.colors\n",
    "    temp_colors = temp_colors.reshape(-1,3)\n",
    "    temp_colors = temp_colors[scene.selected_index]\n",
    "#     temp_colors = list(temp_colors)\n",
    "#     print(temp_colors)\n",
    "    if colors is None:\n",
    "        colors = temp_colors\n",
    "    else:\n",
    "        colors =  np.concatenate((colors, temp_colors),axis=0)\n",
    "#     print(type(temp_colors))"
   ]
  },
  {
   "cell_type": "code",
   "execution_count": 27,
   "id": "902befd0",
   "metadata": {},
   "outputs": [
    {
     "name": "stdout",
     "output_type": "stream",
     "text": [
      "(2143754, 3)\n",
      "(2143754, 3)\n"
     ]
    }
   ],
   "source": [
    "points = np.array(points)\n",
    "print(points.shape)\n",
    "print(colors.shape)"
   ]
  },
  {
   "cell_type": "code",
   "execution_count": 13,
   "id": "75c92713",
   "metadata": {},
   "outputs": [
    {
     "name": "stdout",
     "output_type": "stream",
     "text": [
      "236.17611068698506\n"
     ]
    }
   ],
   "source": [
    "print(np.max(points[:,0])-np.min(points[:,0]))"
   ]
  },
  {
   "cell_type": "code",
   "execution_count": 14,
   "id": "2feec6be",
   "metadata": {},
   "outputs": [
    {
     "name": "stdout",
     "output_type": "stream",
     "text": [
      "247.293630309693\n"
     ]
    }
   ],
   "source": [
    "print(np.max(points[:,1])-np.min(points[:,1]))"
   ]
  },
  {
   "cell_type": "code",
   "execution_count": 15,
   "id": "42bd8ebb",
   "metadata": {},
   "outputs": [
    {
     "name": "stdout",
     "output_type": "stream",
     "text": [
      "58.22688659679802\n"
     ]
    }
   ],
   "source": [
    "print(np.max(points[:,2])-np.min(points[:,2]))"
   ]
  },
  {
   "cell_type": "code",
   "execution_count": 16,
   "id": "56e4c684",
   "metadata": {},
   "outputs": [],
   "source": [
    "# distances = np.linalg.norm(points[:, np.newaxis, :] - points, axis=2)\n",
    "\n",
    "# # Set diagonal elements to zero to avoid comparing a point to itself\n",
    "# np.fill_diagonal(distances, 0)\n",
    "\n",
    "# # Find the maximum distance\n",
    "# max_distance = np.max(distances)"
   ]
  },
  {
   "cell_type": "code",
   "execution_count": 31,
   "id": "63425f82",
   "metadata": {},
   "outputs": [
    {
     "name": "stdout",
     "output_type": "stream",
     "text": [
      "[Open3D DEBUG] Input Points / Samples: 2143754 / 158030\n",
      "[Open3D DEBUG] #   Got kernel density: 0.052228 (s), 490.164 (MB) / 950.141 (MB) / 1039 (MB)\n",
      "[Open3D DEBUG] #     Got normal field: 0.281348 (s), 509.121 (MB) / 950.141 (MB) / 1039 (MB)\n",
      "[Open3D DEBUG] Point weight / Estimated Area: 3.850330e-07 / 8.254160e-01\n",
      "[Open3D DEBUG] #       Finalized tree: 0.239818 (s), 536.895 (MB) / 950.141 (MB) / 1039 (MB)\n",
      "[Open3D DEBUG] #  Set FEM constraints: 0.400327 (s), 543.336 (MB) / 950.141 (MB) / 1039 (MB)\n",
      "[Open3D DEBUG] #Set point constraints: 0.0732281 (s), 545.172 (MB) / 950.141 (MB) / 1039 (MB)\n",
      "[Open3D DEBUG] Leaf Nodes / Active Nodes / Ghost Nodes: 1181447 / 1338648 / 11577\n",
      "[Open3D DEBUG] Memory Usage: 545.172 MB\n",
      "Cycle[0] Depth[0/9]:\t[Open3D DEBUG] # Linear system solved: 0.773426 (s), 585.078 (MB) / 950.141 (MB) / 1039 (MB)\n",
      "Updated constraints / Got system / Solved in:  0.000 /  0.000 /  0.000\t(545.172 MB)\tNodes: 8\n",
      "CG: 4.3552e-01 -> 4.3552e-01 -> 1.1968e-04 (2.7e-04) [0]\n",
      "Cycle[0] Depth[1/9]:\tUpdated constraints / Got system / Solved in:  0.002 /  0.000 /  0.000\t(545.172 MB)\tNodes: 27\n",
      "  GS: 4.0598e-01 -> 4.0598e-01 -> 9.3042e-04 (2.3e-03) [8]\n",
      "Cycle[0] Depth[2/9]:\tUpdated constraints / Got system / Solved in:  0.002 /  0.001 /  0.000\t(545.172 MB)\tNodes: 125\n",
      "    GS: 4.5851e-01 -> 4.5851e-01 -> 6.1714e-04 (1.3e-03) [8]\n",
      "Cycle[0] Depth[3/9]:\tUpdated constraints / Got system / Solved in:  0.002 /  0.003 /  0.001\t(545.375 MB)\tNodes: 729\n",
      "      GS: 6.6808e-01 -> 6.6808e-01 -> 3.4493e-03 (5.2e-03) [8]\n",
      "Cycle[0] Depth[4/9]:\tUpdated constraints / Got system / Solved in:  0.002 /  0.007 /  0.002\t(545.375 MB)\tNodes: 4913\n",
      "        GS: 7.5819e-01 -> 7.5819e-01 -> 4.6195e-03 (6.1e-03) [8]\n",
      "Cycle[0] Depth[5/9]:\tUpdated constraints / Got system / Solved in:  0.003 /  0.022 /  0.017\t(545.375 MB)\tNodes: 35937\n",
      "          GS: 8.1862[Open3D DEBUG] Got average: 0.0189669 (s), 490.891 (MB) / 950.141 (MB) / 1039 (MB)\n",
      "[Open3D DEBUG] Iso-Value: 4.999467e-01 = 1.071763e+06 / 2.143754e+06\n",
      "[Open3D DEBUG] #          Total Solve:       4.0 (s),     950.1 (MB)\n",
      "e-01 -> 8.1862e-01 -> 3.6507e-03 (4.5e-03) [8]\n",
      "Cycle[0] Depth[6/9]:\tUpdated constraints / Got system / Solved in:  0.003 /  0.009 /  0.012\t(545.375 MB)\tNodes: 31988\n",
      "            GS: 9.6197e-01 -> 9.6197e-01 -> 1.3639e-02 (1.4e-02) [8]\n",
      "Cycle[0] Depth[7/9]:\tUpdated constraints / Got system / Solved in:  0.004 /  0.021 /  0.022\t(545.375 MB)\tNodes: 110048\n",
      "              GS: 8.7396e-01 -> 8.7396e-01 -> 6.2995e-02 (7.2e-02) [8]\n",
      "Cycle[0] Depth[8/9]:\tUpdated constraints / Got system / Solved in:  0.012 /  0.066 /  0.071\t(545.375 MB)\tNodes: 354504\n",
      "                GS: 6.8681e-01 -> 6.8681e-01 -> 1.0864e-01 (1.6e-01) [8]\n",
      "Cycle[0] Depth[9/9]:\tUpdated constraints / Got system / Solved in:  0.010 /  0.151 /  0.154\t(585.078 MB)\tNodes: 774792\n",
      "                  GS: 3.8523e-01 -> 3.8523e-01 -> 7.2502e-02 (1.9e-01) [8]\n"
     ]
    }
   ],
   "source": [
    "\n",
    "# Define a list of points (replace this with your own coordinates)\n",
    "points = np.array(points)\n",
    "# Create a point cloud\n",
    "mesh_frame = o3d.geometry.TriangleMesh.create_coordinate_frame(size=1.0, origin=[0, 0, 0])\n",
    "point_cloud = o3d.geometry.PointCloud()\n",
    "point_cloud.points = o3d.utility.Vector3dVector(points)\n",
    "point_cloud.colors = o3d.utility.Vector3dVector(colors)\n",
    "\n",
    "\n",
    "# kdtree = o3d.geometry.KDTreeFlann(point_cloud)\n",
    "# distances, _ = kdtree.search_knn_vector_3d(point_cloud.points, k=2)  # k=2 to get the distances to the two nearest neighbors\n",
    "\n",
    "# # Extract the farthest neighbor distance for each point\n",
    "# farthest_distances = np.max(distances, axis=1)\n",
    "\n",
    "# # Print the maximum distance\n",
    "# max_distance = np.max(farthest_distances)\n",
    "# print(\"Maximum Distance:\", max_distance)\n",
    "\n",
    "\n",
    "point_cloud.estimate_normals()\n",
    "# print('run Poisson surface reconstruction')\n",
    "with o3d.utility.VerbosityContextManager(\n",
    "        o3d.utility.VerbosityLevel.Debug) as cm:\n",
    "    mesh, densities = o3d.geometry.TriangleMesh.create_from_point_cloud_poisson(\n",
    "        point_cloud, depth=9)\n",
    "vertices_to_remove = densities < np.quantile(densities, 0.05)\n",
    "mesh.remove_vertices_by_mask(vertices_to_remove)\n",
    "# # print(mesh)\n",
    "# o3d.visualization.draw_geometries([mesh,point_cloud])\n",
    "\n",
    "\n",
    "\n",
    "# Visualize the point cloud\n",
    "o3d.visualization.draw_geometries([mesh])\n",
    "# o3d.visualization.draw_geometries([], window_name=\"Open3D\", width=800, height=600)"
   ]
  },
  {
   "cell_type": "code",
   "execution_count": 39,
   "metadata": {},
   "outputs": [],
   "source": [
    "def display_inlier_outlier(cloud, ind):\n",
    "    inlier_cloud = cloud.select_by_index(ind)\n",
    "    outlier_cloud = cloud.select_by_index(ind, invert=True)\n",
    "\n",
    "    print(\"Showing outliers (red) and inliers (gray): \")\n",
    "    outlier_cloud.paint_uniform_color([1, 0, 0])\n",
    "    inlier_cloud.paint_uniform_color([0.8, 0.8, 0.8])\n",
    "    o3d.visualization.draw_geometries([inlier_cloud, outlier_cloud],\n",
    "                                      zoom=0.3412,\n",
    "                                      front=[0.4257, -0.2125, -0.8795],\n",
    "                                      lookat=[2.6172, 2.0475, 1.532],\n",
    "                                      up=[-0.0694, -0.9768, 0.2024])"
   ]
  },
  {
   "cell_type": "code",
   "execution_count": 48,
   "id": "3bd86334",
   "metadata": {},
   "outputs": [
    {
     "name": "stdout",
     "output_type": "stream",
     "text": [
      "Showing outliers (red) and inliers (gray): \n"
     ]
    }
   ],
   "source": [
    "cl, ind = point_cloud.remove_statistical_outlier(nb_neighbors=5,\n",
    "                                                    std_ratio=4.0)\n",
    "display_inlier_outlier(point_cloud, ind)\n",
    "o3d.visualization.draw_geometries([cl])"
   ]
  },
  {
   "cell_type": "code",
   "execution_count": 47,
   "id": "b79a6fab",
   "metadata": {},
   "outputs": [
    {
     "name": "stdout",
     "output_type": "stream",
     "text": [
      "[Open3D DEBUG] Input Points / Samples: 2138541 / 417044\n",
      "[Open3D DEBUG] #   Got kernel density: 0.194969 (s), 362.551 (MB) / 2384.38 (MB) / 2412 (MB)\n",
      "[Open3D DEBUG] #     Got normal field: 1.14783 (s), 482.16 (MB) / 2384.38 (MB) / 2412 (MB)\n",
      "[Open3D DEBUG] Point weight / Estimated Area: 4.229139e-07 / 9.044186e-01\n",
      "[Open3D DEBUG] #       Finalized tree: 0.779008 (s), 632.367 (MB) / 2384.38 (MB) / 2412 (MB)\n",
      "[Open3D DEBUG] #  Set FEM constraints: 1.19095 (s), 667.031 (MB) / 2384.38 (MB) / 2412 (MB)\n",
      "[Open3D DEBUG] #Set point constraints: 0.249869 (s), 671.676 (MB) / 2384.38 (MB) / 2412 (MB)\n",
      "[Open3D DEBUG] Leaf Nodes / Active Nodes / Ghost Nodes: 3691787 / 3978928 / 240257\n",
      "[Open3D DEBUG] Memory Usage: 671.676 MB\n",
      "Cycle[0] Depth[ 0/10]:\t[Open3D DEBUG] # Linear system solved: 2.24302 (s), 722.613 (MB) / 2384.38 (MB) / 2412 (MB)\n",
      "Updated constraints / Got system / Solved in:  0.000 /  0.000 /  0.000\t(678.543 MB)\tNodes: 8\n",
      "CG: 4.8159e-01 -> 4.8159e-01 -> 2.2778e-04 (4.7e-04) [0]\n",
      "Cycle[0] Depth[ 1/10]:\tUpdated constraints / Got system / Solved in:  0.002 /  0.000 /  0.000\t(678.555 MB)\tNodes: 27\n",
      "  GS: 5.0392e-01 -> 5.0392e-01 -> 1.1550e-03 (2.3e-03) [8]\n",
      "Cycle[0] Depth[ 2/10]:\tUpdated constraints / Got system / Solved in:  0.002 /  0.001 /  0.000\t(678.555 MB)\tNodes: 125\n",
      "    GS: 5.1621e-01 -> 5.1621e-01 -> 3.6289e-04 (7.0e-04) [8]\n",
      "Cycle[0] Depth[ 3/10]:\tUpdated constraints / Got system / Solved in:  0.002 /  0.003 /  0.001\t(678.867 MB)\tNodes: 729\n",
      "      GS: 7.6795e-01 -> 7.6795e-01 -> 3.7982e-03 (4.9e-03) [8]\n",
      "Cycle[0] Depth[ 4/10]:\tUpdated constraints / Got system / Solved in:  0.002 /  0.008 /  0.003\t(678.867 MB)\tNodes: 4913\n",
      "        GS: 9.0779e-01 -> 9.0779e-01 -> 6.7557e-03 (7.4e-03) [8]\n",
      "Cycle[0] Depth[ 5/10]:\tUpdated constraints / Got system / Solved in:  0.003 /  0.024 /  0.036\t(678.867 MB)\tNodes: 35937\n",
      "          [Open3D DEBUG] Got average: 0.0567892 (s), 579.512 (MB) / 2384.38 (MB) / 2412 (MB)\n",
      "[Open3D DEBUG] Iso-Value: 4.995607e-01 = 1.068331e+06 / 2.138541e+06\n",
      "GS: 9.0467e-01 -> 9.0467e-01 -> 4.8290e-03 (5.3e-03) [8]\n",
      "Cycle[0] Depth[ 6/10]:\tUpdated constraints / Got system / Solved in:  0.003 /  0.011 /  0.020\t(678.867 MB)\tNodes: 34164\n",
      "            GS: 1.0731e+00 -> 1.0731e+00 -> 1.2646e-02 (1.2e-02) [8]\n",
      "Cycle[0] Depth[ 7/10]:\tUpdated constraints / Got system / Solved in:  0.005 /  0.023 /  0.030\t(678.867 MB)\tNodes: 119896\n",
      "              GS: 9.5174e-01 -> 9.5174e-01 -> 1.5872e-02 (1.7e-02) [8]\n",
      "Cycle[0] Depth[ 8/10]:\tUpdated constraints / Got system / Solved in:  0.011 /  0.073 /  0.067\t(678.867 MB)\tNodes: 407192\n",
      "                GS: 8.2108e-01 -> 8.2108e-01 -> 4.9324e-02 (6.0e-02) [8]\n",
      "Cycle[0] Depth[ 9/10]:\tUpdated constraints / Got system / Solved in:  0.031 /  0.203 /  0.226\t(678.867 MB)\tNodes: 1168240\n",
      "                  GS: 5.8937e-01 -> 5.8937e-01 -> 6.2137e-02 (1.1e-01) [8]\n",
      "Cycle[0] Depth[10/10]:\tUpdated constraints / Got system / Solved in:  0.027 /  0.412 /  0.423\t(722.613 MB)\tNodes: 2181600\n",
      "                    GS: 3.0376e-01 -> 3.0376e-01 [Open3D DEBUG] #          Total Solve:      11.8 (s),    2384.4 (MB)\n",
      "-> 3.3391e-02 (1.1e-01) [8]\n"
     ]
    }
   ],
   "source": [
    "with o3d.utility.VerbosityContextManager(\n",
    "        o3d.utility.VerbosityLevel.Debug) as cm:\n",
    "    mesh, densities = o3d.geometry.TriangleMesh.create_from_point_cloud_poisson(\n",
    "        cl, depth=10)\n",
    "vertices_to_remove = densities < np.quantile(densities, 0.05)\n",
    "mesh.remove_vertices_by_mask(vertices_to_remove)\n",
    "o3d.visualization.draw_geometries([mesh])"
   ]
  },
  {
   "cell_type": "code",
   "execution_count": null,
   "metadata": {},
   "outputs": [],
   "source": []
  }
 ],
 "metadata": {
  "kernelspec": {
   "display_name": "Python 3 (ipykernel)",
   "language": "python",
   "name": "python3"
  },
  "language_info": {
   "codemirror_mode": {
    "name": "ipython",
    "version": 3
   },
   "file_extension": ".py",
   "mimetype": "text/x-python",
   "name": "python",
   "nbconvert_exporter": "python",
   "pygments_lexer": "ipython3",
   "version": "3.9.6"
  }
 },
 "nbformat": 4,
 "nbformat_minor": 5
}
