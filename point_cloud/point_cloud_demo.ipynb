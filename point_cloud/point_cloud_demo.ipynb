{
 "cells": [
  {
   "cell_type": "code",
   "execution_count": 1,
   "id": "486c8815",
   "metadata": {},
   "outputs": [],
   "source": [
    "import numpy as np\n",
    "import skimage as sk\n",
    "import skimage.io as skio\n",
    "import json\n",
    "import copy\n",
    "import triangle\n",
    "import matplotlib.pyplot as plt\n",
    "import skimage as ski\n",
    "from PIL import Image\n",
    "import imageio\n",
    "import os\n",
    "from tqdm import tqdm\n",
    "import cv2\n",
    "from scipy import signal\n",
    "import numpy as np"
   ]
  },
  {
   "cell_type": "code",
   "execution_count": 2,
   "id": "70c570bf",
   "metadata": {},
   "outputs": [],
   "source": [
    "depth = skio.imread(\"example_depth.png\")\n",
    "  \n",
    "depth = sk.img_as_float(depth)[:,:,0]"
   ]
  },
  {
   "cell_type": "code",
   "execution_count": 3,
   "id": "f740d8aa",
   "metadata": {},
   "outputs": [],
   "source": [
    "colors = skio.imread(\"example_img.png\")\n",
    "  \n",
    "colors = sk.img_as_float(colors)\n",
    "colors = np.array(colors[:,:,:3])"
   ]
  },
  {
   "cell_type": "code",
   "execution_count": 4,
   "id": "b1b00539",
   "metadata": {},
   "outputs": [],
   "source": [
    "# skio.imshow(colors)"
   ]
  },
  {
   "cell_type": "code",
   "execution_count": 5,
   "id": "b43cb0d3",
   "metadata": {},
   "outputs": [
    {
     "name": "stdout",
     "output_type": "stream",
     "text": [
      "(256, 512)\n"
     ]
    }
   ],
   "source": [
    "print(depth.shape)"
   ]
  },
  {
   "cell_type": "code",
   "execution_count": 6,
   "id": "4634c517",
   "metadata": {},
   "outputs": [],
   "source": [
    "h = 256\n",
    "w = 512"
   ]
  },
  {
   "cell_type": "code",
   "execution_count": 8,
   "id": "00147710",
   "metadata": {},
   "outputs": [],
   "source": [
    "def calculate_cart_coordinate(depth):\n",
    "    points = []\n",
    "    selected_index = []\n",
    "    for i in range(h):\n",
    "        for j in range(w):\n",
    "            phi = (w-j-1)/(w-1) * 2* 3.14159 + 0.5*3.14159\n",
    "            theta = (h-i-1)/(h-1) * 3.14159\n",
    "            \n",
    "#             phi = (w-i)/(w) * 2* 3.14159\n",
    "#             theta = (1-(h-j)/(h)) * 3.14159\n",
    "            v = np.array([np.sin(theta)*np.cos(phi), np.sin(theta)*np.sin(phi), np.cos(theta)])\n",
    "#             points.append(copy.copy(v*depth[j,i]*1000))\n",
    "            if depth[i,j] != 1:\n",
    "                points.append(copy.copy(v*depth[i,j]*255))\n",
    "                \n",
    "                selected_index.append(i*w + j)\n",
    "    return points, selected_index\n",
    "            "
   ]
  },
  {
   "cell_type": "code",
   "execution_count": 9,
   "id": "3aa4b495",
   "metadata": {},
   "outputs": [],
   "source": [
    "points, selected_index = calculate_cart_coordinate(depth)"
   ]
  },
  {
   "cell_type": "code",
   "execution_count": 13,
   "id": "3f6ba2d3",
   "metadata": {},
   "outputs": [
    {
     "name": "stdout",
     "output_type": "stream",
     "text": [
      "(256, 512, 3)\n"
     ]
    }
   ],
   "source": [
    "print(colors.shape)"
   ]
  },
  {
   "cell_type": "code",
   "execution_count": 15,
   "id": "44e939e8",
   "metadata": {},
   "outputs": [],
   "source": [
    "colors = colors.reshape(-1,3)"
   ]
  },
  {
   "cell_type": "code",
   "execution_count": 16,
   "id": "260b1560",
   "metadata": {},
   "outputs": [],
   "source": [
    "colors = colors[selected_index]"
   ]
  },
  {
   "cell_type": "code",
   "execution_count": 17,
   "id": "717df41c",
   "metadata": {},
   "outputs": [
    {
     "name": "stdout",
     "output_type": "stream",
     "text": [
      "\u001b[1;33m[Open3D WARNING] GLFW Error: Cocoa: Failed to find service port for display\u001b[0;m\n",
      "\u001b[1;33m[Open3D WARNING] GLFW Error: Cocoa: Failed to find service port for display\u001b[0;m\n"
     ]
    }
   ],
   "source": [
    "import open3d as o3d\n",
    "import numpy as np\n",
    "\n",
    "# Define a list of points (replace this with your own coordinates)\n",
    "points = np.array(points)\n",
    "# Create a point cloud\n",
    "point_cloud = o3d.geometry.PointCloud()\n",
    "point_cloud.points = o3d.utility.Vector3dVector(points)\n",
    "point_cloud.colors = o3d.utility.Vector3dVector(colors)\n",
    "\n",
    "# Visualize the point cloud\n",
    "o3d.visualization.draw_geometries([point_cloud])"
   ]
  },
  {
   "cell_type": "code",
   "execution_count": null,
   "id": "a70f1b01",
   "metadata": {},
   "outputs": [],
   "source": []
  },
  {
   "cell_type": "code",
   "execution_count": null,
   "id": "948653bd",
   "metadata": {},
   "outputs": [],
   "source": []
  },
  {
   "cell_type": "code",
   "execution_count": null,
   "id": "876858c2",
   "metadata": {},
   "outputs": [],
   "source": []
  },
  {
   "cell_type": "code",
   "execution_count": null,
   "id": "438e1444",
   "metadata": {},
   "outputs": [],
   "source": []
  }
 ],
 "metadata": {
  "kernelspec": {
   "display_name": "Python 3 (ipykernel)",
   "language": "python",
   "name": "python3"
  },
  "language_info": {
   "codemirror_mode": {
    "name": "ipython",
    "version": 3
   },
   "file_extension": ".py",
   "mimetype": "text/x-python",
   "name": "python",
   "nbconvert_exporter": "python",
   "pygments_lexer": "ipython3",
   "version": "3.9.13"
  }
 },
 "nbformat": 4,
 "nbformat_minor": 5
}
