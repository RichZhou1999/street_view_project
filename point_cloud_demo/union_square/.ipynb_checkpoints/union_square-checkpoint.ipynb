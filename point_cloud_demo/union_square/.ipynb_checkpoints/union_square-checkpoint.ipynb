{
 "cells": [
  {
   "cell_type": "code",
   "execution_count": 3,
   "id": "6b7cc3e0",
   "metadata": {},
   "outputs": [],
   "source": [
    "global center_lat, center_lon, center_heading\n",
    "\n",
    "\n",
    "\n",
    "# 37.78830013768426_-122.40846027989743_170.830\n",
    "center_lat = 37.78830013768426\n",
    "center_lon = -122.40846027989743\n",
    "center_heading = 170.830\n",
    "# center_heading = 129.6586\n",
    "\n",
    "# 37.76884991868723_-122.38931656272395_129.6586\n",
    "\n",
    "# 37.768883652159936_-122.38908075369999_267.82532\n",
    "# 37.76884991868723_-122.38931656272395_129.6586_depth\n",
    "# 37.7686343541031_-122.38919416338447_355.85876\n",
    "\n",
    "# center_lat = 37.768883652159936\n",
    "# center_lon = -122.38908075369999\n",
    "# center_heading = 267.82532"
   ]
  },
  {
   "cell_type": "code",
   "execution_count": 4,
   "id": "45d07925",
   "metadata": {},
   "outputs": [],
   "source": [
    "import numpy as np\n",
    "import skimage as sk\n",
    "import skimage.io as skio\n",
    "import json\n",
    "import copy\n",
    "import triangle\n",
    "import matplotlib.pyplot as plt\n",
    "import skimage as ski\n",
    "from PIL import Image\n",
    "import imageio\n",
    "import os\n",
    "from tqdm import tqdm\n",
    "import cv2\n",
    "from scipy import signal\n",
    "import numpy as np\n",
    "import copy"
   ]
  },
  {
   "cell_type": "code",
   "execution_count": 5,
   "id": "d794575f",
   "metadata": {},
   "outputs": [],
   "source": [
    "from math import radians, sin, cos, sqrt, atan2\n",
    "\n",
    "def haversine(lat1, lon1, lat2, lon2):\n",
    "    # Convert latitude and longitude from degrees to radians\n",
    "    lat1, lon1, lat2, lon2 = map(radians, [lat1, lon1, lat2, lon2])\n",
    "\n",
    "    # Haversine formula\n",
    "    dlat = lat2 - lat1\n",
    "    dlon = lon2 - lon1\n",
    "    a = sin(dlat / 2)**2 + cos(lat1) * cos(lat2) * sin(dlon / 2)**2\n",
    "    c = 2 * atan2(sqrt(a), sqrt(1 - a))\n",
    "    radius_of_earth = 6371 * 1000  # Radius of Earth in kilometers. Use 3959 for miles.\n",
    "\n",
    "    # Calculate the distance\n",
    "    distance = radius_of_earth * c\n",
    "\n",
    "    return distance\n",
    "\n",
    "# # Example usage:\n",
    "# lat1 = 37.76883408483024 # Latitude of the first point\n",
    "# lon1 = -122.38892071430969  # Longitude of the first point\n",
    "# lat2 = 37.76882967189774  # Latitude of the second point\n",
    "# lon2 = -122.38884535002529  # Longitude of the second point\n",
    "\n",
    "# distance = haversine(lat1, lon1, lat2, lon2)\n",
    "# print(f\"The distance between the two points is {distance:.2f} m.\")"
   ]
  },
  {
   "cell_type": "code",
   "execution_count": 6,
   "id": "6a754389",
   "metadata": {},
   "outputs": [],
   "source": [
    "class Scene():\n",
    "    def __init__(self, img_path, depth_path):\n",
    "#         self.depth = skio.imread(depth_path)\n",
    "#         self.depth = sk.img_as_float(self.depth)[:,:,0]\n",
    "        data_array = np.genfromtxt(depth_path, delimiter=',', dtype=float)\n",
    "        self.depth = data_array\n",
    "        self.colors = skio.imread(img_path)\n",
    "        self.colors = sk.img_as_float(self.colors)[:,:,:3]\n",
    "        self.points = []\n",
    "        self.w = self.colors.shape[1]\n",
    "        self.h = self.colors.shape[0]\n",
    "        self.selected_index  = []\n",
    "        self.displacement = np.array([0,0,0])\n",
    "        self.rotation_matrix = None\n",
    "        img_path_split = img_path[:-4].split(\"_\")\n",
    "        self.lat = float(img_path_split[0])\n",
    "        self.lon = float(img_path_split[1])\n",
    "#         print(img_path_split)\n",
    "        self.heading = float(img_path_split[2])\n",
    "    \n",
    "    def calcualte_displacement(self, lat1=center_lat, lon1=center_lon,heading1=center_heading):\n",
    "            lat2 = self.lat\n",
    "            lon2 = self.lon\n",
    "            heading2 = self.heading\n",
    "            # Convert latitude and longitude from degrees to radians\n",
    "            lat1, lon1, lat2, lon2 = map(radians, [lat1, lon1, lat2, lon2])\n",
    "\n",
    "            # Haversine formula\n",
    "            dlat = lat2 - lat1\n",
    "            dlon = lon2 - lon1\n",
    "            a = sin(dlat / 2)**2 + cos(lat1) * cos(lat2) * sin(dlon / 2)**2\n",
    "            c = 2 * atan2(sqrt(a), sqrt(1 - a))\n",
    "            radius_of_earth = 6371 * 1000  # Radius of Earth in kilometers. Use 3959 for miles.\n",
    "\n",
    "            # Calculate the distance\n",
    "            distance = radius_of_earth * c\n",
    "            print(distance)\n",
    "            dheading = (heading2 - heading1)/180*3.14159\n",
    "            rotation_matrix = np.array([[np.cos(dheading),-np.sin(dheading),0],\n",
    "                                       [np.sin(dheading),np.cos(dheading),0],\n",
    "                                       [0,0,1]])\n",
    "            self.rotation_matrix = rotation_matrix\n",
    "#             self.displacement = np.array()\n",
    "#             return distance\n",
    "\n",
    "    \n",
    "    def calculate_xyz_coordinate(self):\n",
    "        self.calcualte_displacement()\n",
    "        total_count = 0\n",
    "        for i in range(self.h):\n",
    "            for j in range(self.w):\n",
    "                phi = (1-(self.w-j-1)/(self.w-1)) * 2* 3.14159 - 3.14159\n",
    "                theta = (self.h-i-1)/(self.h-1) * 3.14159\n",
    "                v = np.array([np.sin(theta)*np.cos(phi), np.sin(theta)*np.sin(phi), -np.cos(theta)])\n",
    "                \n",
    "#                 if total_count == 39596:\n",
    "#                     print(v,self.depth[i,j])\n",
    "                v = v @ self.rotation_matrix\n",
    "                if self.depth[i,j] < 1e7:\n",
    "#                     if total_count == 39596:\n",
    "#                         print(copy.copy(v*self.depth[i,j])\n",
    "                    self.points.append(copy.copy(v*self.depth[i,j]) + self.displacement)\n",
    "                    self.selected_index.append(i*self.w + j)\n",
    "                total_count+=1\n",
    "    "
   ]
  },
  {
   "cell_type": "code",
   "execution_count": 7,
   "id": "a691aeaf",
   "metadata": {},
   "outputs": [],
   "source": [
    "# def calculate_cart_coordinate(depth, displacement = np.array([0,0,0])):\n",
    "#     points = []\n",
    "#     selected_index = []\n",
    "#     for i in range(h):\n",
    "#         for j in range(w):\n",
    "#             phi = (1-(w-j-1)/(w-1)) * 2* 3.14159 - 3.14159\n",
    "#             theta = (h-i-1)/(h-1) * 3.14159\n",
    "            \n",
    "# #             phi = (w-i)/(w) * 2* 3.14159\n",
    "# #             theta = (1-(h-j)/(h)) * 3.14159\n",
    "#             v = np.array([np.sin(theta)*np.cos(phi), np.sin(theta)*np.sin(phi), np.cos(theta)])\n",
    "# #             points.append(copy.copy(v*depth[j,i]*1000))\n",
    "#             if depth[i,j] != 1:\n",
    "#                 points.append(copy.copy(v*depth[i,j]*255 ) + displacement)\n",
    "                \n",
    "#                 selected_index.append(i*w + j)\n",
    "#     return points, selected_index"
   ]
  },
  {
   "cell_type": "code",
   "execution_count": 8,
   "id": "23852f44",
   "metadata": {},
   "outputs": [
    {
     "data": {
      "text/plain": [
       "['37.78830013768426_-122.40846027989743_170.83008.csv',\n",
       " '37.78833694542047_-122.40824689775292_80.585556.csv',\n",
       " '37.78838501720517_-122.40790629781468_79.82836.csv',\n",
       " '37.788443762709406_-122.40744772635011_80.58542.csv',\n",
       " '37.788470763148744_-122.40722863807088_80.80982.csv',\n",
       " '37.78850309159115_-122.40696927498523_80.36718.csv',\n",
       " '37.78852089418571_-122.40682243768639_81.20509.csv',\n",
       " '37.78819031373786_-122.40672391225024_170.84293.csv',\n",
       " '37.78803952488978_-122.40669487315671_171.35109.csv',\n",
       " '37.78785778229486_-122.40665987066721_171.01863.csv',\n",
       " '37.78776604613987_-122.40664163479772_170.69772.csv',\n",
       " '37.78821012735193_-122.4084428221603_170.85738.csv',\n",
       " '37.78781121619188_-122.4082061917539_179.20326.csv',\n",
       " '37.78750312105167_-122.40830151809199_178.75548.csv',\n",
       " '37.787375776479095_-122.40826668898664_170.07405.csv',\n",
       " '37.78743694783015_-122.40792012579611_261.1695.csv',\n",
       " '37.78751727889219_-122.40729838338326_260.26147.csv',\n",
       " '37.787599568596534_-122.40665511724181_261.94516.csv',\n",
       " '37.78786461006454_-122.40809280256104_264.12878.csv',\n",
       " '37.78804718579809_-122.40787535769965_255.75778.csv',\n",
       " '37.78824441537277_-122.40707505993983_24.926989.csv']"
      ]
     },
     "execution_count": 8,
     "metadata": {},
     "output_type": "execute_result"
    }
   ],
   "source": [
    "\n",
    "img_paths = [\"37.78830013768426_-122.40846027989743_170.83008.png\",\n",
    "             \"37.78833694542047_-122.40824689775292_80.585556.png\",\n",
    "            \"37.78838501720517_-122.40790629781468_79.82836.png\",\n",
    "            \"37.788443762709406_-122.40744772635011_80.58542.png\",\n",
    "            \"37.788470763148744_-122.40722863807088_80.80982.png\",\n",
    "            \"37.78850309159115_-122.40696927498523_80.36718.png\",\n",
    "            \"37.78852089418571_-122.40682243768639_81.20509.png\",\n",
    "            \"37.78819031373786_-122.40672391225024_170.84293.png\",\n",
    "             \"37.78803952488978_-122.40669487315671_171.35109.png\",\n",
    "             \"37.78785778229486_-122.40665987066721_171.01863.png\",\n",
    "             \"37.78776604613987_-122.40664163479772_170.69772.png\",\n",
    "             \"37.78821012735193_-122.4084428221603_170.85738.png\",\n",
    "             \"37.78781121619188_-122.4082061917539_179.20326.png\",\n",
    "             \"37.78750312105167_-122.40830151809199_178.75548.png\",\n",
    "             \"37.787375776479095_-122.40826668898664_170.07405.png\",\n",
    "             \"37.78743694783015_-122.40792012579611_261.1695.png\",\n",
    "             \"37.78751727889219_-122.40729838338326_260.26147.png\",\n",
    "             \"37.787599568596534_-122.40665511724181_261.94516.png\",\n",
    "             \"37.78786461006454_-122.40809280256104_264.12878.png\",\n",
    "             \"37.78804718579809_-122.40787535769965_255.75778.png\",\n",
    "             \"37.78824441537277_-122.40707505993983_24.926989.png\"\n",
    "            ]\n",
    "\n",
    "\n",
    "# img_paths = [\"37.78830013768426_-122.40846027989743_170.830.png\",\n",
    "#              \"37.78833694542047_-122.40824689775292_80.585.png\",\n",
    "#             \"37.78838501720517_-122.40790629781468_79.82836.png\"]\n",
    "\n",
    "# color_paths = [\"37.768900652202035_-122.38887243223877_264.93262_depth.png\"]\n",
    "# scenes = []\n",
    "depth_paths = []\n",
    "# for i in range(len(img_paths)):\n",
    "#     temp = img_paths[i][:-4].split(\"_\")\n",
    "#     temp = \"_\".join(temp) + \"_\" + \"depth\"+ \".png\"\n",
    "#     depth_paths.append(temp)\n",
    "\n",
    "for i in range(len(img_paths)):\n",
    "    temp = img_paths[i][:-4].split(\"_\")\n",
    "    temp = \"_\".join(temp) + \".csv\"\n",
    "    depth_paths.append(temp)\n",
    "depth_paths"
   ]
  },
  {
   "cell_type": "code",
   "execution_count": 9,
   "id": "bd3541e5",
   "metadata": {},
   "outputs": [],
   "source": [
    "# for img_path, color_path in zip(img_paths, color_paths):\n",
    "#     print(img_path)"
   ]
  },
  {
   "cell_type": "code",
   "execution_count": 10,
   "id": "f6c519ff",
   "metadata": {},
   "outputs": [
    {
     "data": {
      "text/plain": [
       "143.78833158950889"
      ]
     },
     "execution_count": 10,
     "metadata": {},
     "output_type": "execute_result"
    }
   ],
   "source": [
    "haversine(37.787375776479095, -122.40826668898664, 37.787599568596534, -122.40665511724181)"
   ]
  },
  {
   "cell_type": "code",
   "execution_count": 11,
   "id": "a3334d32",
   "metadata": {},
   "outputs": [],
   "source": [
    "displacements = [(0,19.19,0),(0,49.587,0),(0,90.4,0),(0,109.88,0),(0,132.95,0),(0,146,0),(37.76,148.26,0),\n",
    "                 (54.69,148.26,0),(75.1,148.26,0),(85.4,148.26,0),(10.12,0,0),(58.77,12,0),(89.71,0,0),\n",
    "                 (104.2,0,0),(104.2,31.2,0),(104.2,86.5,0),(104.2,143.78,0),(50,33,0),(37,44,0),(29.7,118.22,0)]"
   ]
  },
  {
   "cell_type": "code",
   "execution_count": 12,
   "id": "28e26f85",
   "metadata": {},
   "outputs": [],
   "source": [
    "scenes = []\n",
    "for img_path, depth_path in zip(img_paths, depth_paths):\n",
    "    temp = Scene(img_path, depth_path)\n",
    "    scenes.append(copy.deepcopy(temp))\n",
    "for i in range(len(displacements)):\n",
    "    scenes[i+1].displacement = np.array(displacements[i])\n",
    "# scenes[1].displacement = np.array([-21.064,0,0])\n",
    "# scenes[1].displacement = np.array([-10,46.13,0])\n",
    "# scenes[2].displacement = np.array([-21.06,-3,0])\n",
    "# scenes[3].displacement = np.array([-49.2,-3,0])\n",
    "# scenes[4].displacement = np.array([10.46,-37,0])\n",
    "# scenes[5].displacement = np.array([-10,107.27,0])"
   ]
  },
  {
   "cell_type": "code",
   "execution_count": 13,
   "id": "25066573",
   "metadata": {},
   "outputs": [
    {
     "name": "stdout",
     "output_type": "stream",
     "text": [
      "0.0\n",
      "19.192462294099496\n",
      "49.58770980251007\n",
      "90.40007331548108\n",
      "109.88093870415732\n",
      "132.9514115554063\n",
      "146.00368966593942\n",
      "153.07157117982067\n",
      "157.8190108389319\n",
      "165.68152344382122\n",
      "170.49213962504456\n",
      "10.125581009522211\n",
      "58.77211613303355\n",
      "89.71559746062388\n",
      "104.18259654936993\n",
      "107.07785458503953\n",
      "134.1737019812726\n",
      "176.72504878139964\n",
      "58.207416222011084\n",
      "58.5927285215614\n",
      "121.88403981030217\n"
     ]
    }
   ],
   "source": [
    "for scene in scenes:\n",
    "    scene.calculate_xyz_coordinate()"
   ]
  },
  {
   "cell_type": "code",
   "execution_count": 43,
   "id": "de7bdff1",
   "metadata": {},
   "outputs": [],
   "source": [
    "# ddd = copy.deepcopy(scenes[0].depth)\n",
    "# ddd = ddd.reshape(-1)\n",
    "\n",
    "# print(ddd[scenes[0].selected_index]*255)"
   ]
  },
  {
   "cell_type": "code",
   "execution_count": 44,
   "id": "c667d9c9",
   "metadata": {},
   "outputs": [],
   "source": [
    "# print(scenes[1].rotation_matrix)"
   ]
  },
  {
   "cell_type": "code",
   "execution_count": 45,
   "id": "226158db",
   "metadata": {},
   "outputs": [],
   "source": [
    "points = []\n",
    "colors = None"
   ]
  },
  {
   "cell_type": "code",
   "execution_count": 46,
   "id": "1a63bb77",
   "metadata": {},
   "outputs": [
    {
     "name": "stdout",
     "output_type": "stream",
     "text": [
      "<class 'NoneType'>\n"
     ]
    }
   ],
   "source": [
    "print(type(None))"
   ]
  },
  {
   "cell_type": "code",
   "execution_count": 47,
   "id": "ce30050a",
   "metadata": {},
   "outputs": [],
   "source": [
    "for scene in scenes:\n",
    "    temp_points = scene.points\n",
    "#     print(temp_points)\n",
    "    points += temp_points\n",
    "    temp_colors = scene.colors\n",
    "    temp_colors = temp_colors.reshape(-1,3)\n",
    "    temp_colors = temp_colors[scene.selected_index]\n",
    "#     temp_colors = list(temp_colors)\n",
    "#     print(temp_colors)\n",
    "    if colors is None:\n",
    "        colors = temp_colors\n",
    "    else:\n",
    "        colors =  np.concatenate((colors, temp_colors),axis=0)\n",
    "#     print(type(temp_colors))"
   ]
  },
  {
   "cell_type": "code",
   "execution_count": 48,
   "id": "902befd0",
   "metadata": {},
   "outputs": [
    {
     "name": "stdout",
     "output_type": "stream",
     "text": [
      "(1681820, 3)\n",
      "(1681820, 3)\n"
     ]
    }
   ],
   "source": [
    "points = np.array(points)\n",
    "print(points.shape)\n",
    "print(colors.shape)"
   ]
  },
  {
   "cell_type": "code",
   "execution_count": 49,
   "id": "75c92713",
   "metadata": {},
   "outputs": [
    {
     "name": "stdout",
     "output_type": "stream",
     "text": [
      "241.91845182723065\n"
     ]
    }
   ],
   "source": [
    "print(np.max(points[:,0])-np.min(points[:,0]))"
   ]
  },
  {
   "cell_type": "code",
   "execution_count": 50,
   "id": "2feec6be",
   "metadata": {},
   "outputs": [
    {
     "name": "stdout",
     "output_type": "stream",
     "text": [
      "282.2308104343849\n"
     ]
    }
   ],
   "source": [
    "print(np.max(points[:,1])-np.min(points[:,1]))"
   ]
  },
  {
   "cell_type": "code",
   "execution_count": 51,
   "id": "42bd8ebb",
   "metadata": {},
   "outputs": [
    {
     "name": "stdout",
     "output_type": "stream",
     "text": [
      "64.86011910418509\n"
     ]
    }
   ],
   "source": [
    "print(np.max(points[:,2])-np.min(points[:,2]))"
   ]
  },
  {
   "cell_type": "code",
   "execution_count": 52,
   "id": "56e4c684",
   "metadata": {},
   "outputs": [],
   "source": [
    "# distances = np.linalg.norm(points[:, np.newaxis, :] - points, axis=2)\n",
    "\n",
    "# # Set diagonal elements to zero to avoid comparing a point to itself\n",
    "# np.fill_diagonal(distances, 0)\n",
    "\n",
    "# # Find the maximum distance\n",
    "# max_distance = np.max(distances)"
   ]
  },
  {
   "cell_type": "code",
   "execution_count": null,
   "id": "63425f82",
   "metadata": {},
   "outputs": [],
   "source": [
    "import open3d as o3d\n",
    "import numpy as np\n",
    "\n",
    "# Define a list of points (replace this with your own coordinates)\n",
    "points = np.array(points)\n",
    "# Create a point cloud\n",
    "mesh_frame = o3d.geometry.TriangleMesh.create_coordinate_frame(size=1.0, origin=[0, 0, 0])\n",
    "point_cloud = o3d.geometry.PointCloud()\n",
    "point_cloud.points = o3d.utility.Vector3dVector(points)\n",
    "point_cloud.colors = o3d.utility.Vector3dVector(colors)\n",
    "\n",
    "\n",
    "# kdtree = o3d.geometry.KDTreeFlann(point_cloud)\n",
    "# distances, _ = kdtree.search_knn_vector_3d(point_cloud.points, k=2)  # k=2 to get the distances to the two nearest neighbors\n",
    "\n",
    "# # Extract the farthest neighbor distance for each point\n",
    "# farthest_distances = np.max(distances, axis=1)\n",
    "\n",
    "# # Print the maximum distance\n",
    "# max_distance = np.max(farthest_distances)\n",
    "# print(\"Maximum Distance:\", max_distance)\n",
    "\n",
    "\n",
    "\n",
    "\n",
    "\n",
    "\n",
    "# Visualize the point cloud\n",
    "o3d.visualization.draw_geometries([mesh_frame, point_cloud])\n",
    "# o3d.visualization.draw_geometries([], window_name=\"Open3D\", width=800, height=600)"
   ]
  },
  {
   "cell_type": "code",
   "execution_count": null,
   "id": "3bd86334",
   "metadata": {},
   "outputs": [],
   "source": []
  },
  {
   "cell_type": "code",
   "execution_count": null,
   "id": "b79a6fab",
   "metadata": {},
   "outputs": [],
   "source": []
  }
 ],
 "metadata": {
  "kernelspec": {
   "display_name": "Python 3 (ipykernel)",
   "language": "python",
   "name": "python3"
  },
  "language_info": {
   "codemirror_mode": {
    "name": "ipython",
    "version": 3
   },
   "file_extension": ".py",
   "mimetype": "text/x-python",
   "name": "python",
   "nbconvert_exporter": "python",
   "pygments_lexer": "ipython3",
   "version": "3.9.13"
  }
 },
 "nbformat": 4,
 "nbformat_minor": 5
}
