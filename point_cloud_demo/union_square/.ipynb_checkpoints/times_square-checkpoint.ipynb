{
 "cells": [
  {
   "cell_type": "code",
   "execution_count": 1,
   "id": "6b7cc3e0",
   "metadata": {},
   "outputs": [],
   "source": [
    "global center_lat, center_lon, center_heading\n",
    "\n",
    "\n",
    "\n",
    "center_lat = 37.78830013768426\n",
    "center_lon = -122.40846027989743\n",
    "center_heading = 170.830"
   ]
  },
  {
   "cell_type": "code",
   "execution_count": 2,
   "id": "45d07925",
   "metadata": {},
   "outputs": [],
   "source": [
    "import numpy as np\n",
    "import skimage as sk\n",
    "import skimage.io as skio\n",
    "import json\n",
    "import copy\n",
    "import triangle\n",
    "import matplotlib.pyplot as plt\n",
    "import skimage as ski\n",
    "from PIL import Image\n",
    "import imageio\n",
    "import os\n",
    "from tqdm import tqdm\n",
    "import cv2\n",
    "from scipy import signal\n",
    "import numpy as np\n",
    "import copy"
   ]
  },
  {
   "cell_type": "code",
   "execution_count": 3,
   "id": "d794575f",
   "metadata": {},
   "outputs": [],
   "source": [
    "from math import radians, sin, cos, sqrt, atan2\n",
    "\n",
    "def haversine(lat1, lon1, lat2, lon2):\n",
    "    # Convert latitude and longitude from degrees to radians\n",
    "    lat1, lon1, lat2, lon2 = map(radians, [lat1, lon1, lat2, lon2])\n",
    "\n",
    "    # Haversine formula\n",
    "    dlat = lat2 - lat1\n",
    "    dlon = lon2 - lon1\n",
    "    a = sin(dlat / 2)**2 + cos(lat1) * cos(lat2) * sin(dlon / 2)**2\n",
    "    c = 2 * atan2(sqrt(a), sqrt(1 - a))\n",
    "    radius_of_earth = 6371 * 1000  # Radius of Earth in kilometers. Use 3959 for miles.\n",
    "\n",
    "    # Calculate the distance\n",
    "    distance = radius_of_earth * c\n",
    "\n",
    "    return distance\n",
    "\n",
    "# # Example usage:\n",
    "# lat1 = 37.76883408483024 # Latitude of the first point\n",
    "# lon1 = -122.38892071430969  # Longitude of the first point\n",
    "# lat2 = 37.76882967189774  # Latitude of the second point\n",
    "# lon2 = -122.38884535002529  # Longitude of the second point\n",
    "\n",
    "# distance = haversine(lat1, lon1, lat2, lon2)\n",
    "# print(f\"The distance between the two points is {distance:.2f} m.\")"
   ]
  },
  {
   "cell_type": "code",
   "execution_count": 4,
   "id": "33dbf6ff",
   "metadata": {},
   "outputs": [
    {
     "data": {
      "text/plain": [
       "array([0., 1.])"
      ]
     },
     "execution_count": 4,
     "metadata": {},
     "output_type": "execute_result"
    }
   ],
   "source": [
    "np.linspace(0, 1, 2)"
   ]
  },
  {
   "cell_type": "code",
   "execution_count": 5,
   "id": "6a754389",
   "metadata": {},
   "outputs": [],
   "source": [
    "class Scene():\n",
    "    def __init__(self, img_path, depth_path):\n",
    "#         self.depth = skio.imread(depth_path)\n",
    "#         self.depth = sk.img_as_float(self.depth)[:,:,0]\n",
    "        data_array = np.genfromtxt(depth_path, delimiter=',', dtype=float)\n",
    "        self.depth = data_array\n",
    "        self.colors = skio.imread(img_path)\n",
    "        self.colors = sk.img_as_float(self.colors)[:,:,:3]\n",
    "        self.points = []\n",
    "        self.w = self.colors.shape[1]\n",
    "        self.h = self.colors.shape[0]\n",
    "        self.selected_index  = []\n",
    "        self.displacement = np.array([0,0,0])\n",
    "        self.rotation_matrix = None\n",
    "        img_path_split = img_path[:-4].split(\"_\")\n",
    "        self.lat = float(img_path_split[0])\n",
    "        self.lon = float(img_path_split[1])\n",
    "#         print(img_path_split)\n",
    "        self.heading = float(img_path_split[2])\n",
    "    \n",
    "    def calculate_initial_compass_bearing(self, lat1, lon1, lat2, lon2):\n",
    "        \"\"\"\n",
    "        Calculates the initial compass bearing between two points.\n",
    "\n",
    "        Parameters:\n",
    "        - lat1, lon1: Latitude and longitude of the starting point (in degrees)\n",
    "        - lat2, lon2: Latitude and longitude of the destination point (in degrees)\n",
    "\n",
    "        Returns:\n",
    "        - Initial compass bearing in degrees (from 0 to 360)\n",
    "        \"\"\"\n",
    "\n",
    "        # Convert latitude and longitude from degrees to radians\n",
    "        lat1, lon1, lat2, lon2 = map(radians, [lat1, lon1, lat2, lon2])\n",
    "\n",
    "        # Calculate the differences in longitude\n",
    "        d_lon = lon2 - lon1\n",
    "\n",
    "        # Calculate the initial bearing using atan2\n",
    "        x = np.sin(d_lon) * np.cos(lat2)\n",
    "        y = np.cos(lat1) * np.sin(lat2) - (np.sin(lat1) * np.cos(lat2) * np.cos(d_lon))\n",
    "        \n",
    "\n",
    "        initial_bearing = atan2(x, y)\n",
    "\n",
    "        # Convert the initial bearing from radians to degrees\n",
    "        initial_bearing = initial_bearing/3.14159 * 180\n",
    "\n",
    "        # Normalize the initial bearing to the range [0, 360)\n",
    "        initial_bearing = (initial_bearing + 360) % 360\n",
    "\n",
    "        return initial_bearing\n",
    "    \n",
    "    \n",
    "    def calcualte_displacement(self, lat1=center_lat, lon1=center_lon,heading1=center_heading):\n",
    "            lat2 = self.lat\n",
    "            lon2 = self.lon\n",
    "            heading2 = self.heading\n",
    "            \n",
    "            \n",
    "            dheading = self.calculate_initial_compass_bearing(lat1, lon1, lat2, lon2)\n",
    "            \n",
    "            # Convert latitude and longitude from degrees to radians\n",
    "            lat1, lon1, lat2, lon2 = map(radians, [lat1, lon1, lat2, lon2])\n",
    "\n",
    "            # Haversine formula\n",
    "            dlat = lat2 - lat1\n",
    "            dlon = lon2 - lon1\n",
    "            a = sin(dlat / 2)**2 + cos(lat1) * cos(lat2) * sin(dlon / 2)**2\n",
    "            c = 2 * atan2(sqrt(a), sqrt(1 - a))\n",
    "            radius_of_earth = 6371 * 1000  # Radius of Earth in kilometers. Use 3959 for miles.\n",
    "\n",
    "            # Calculate the distance\n",
    "            distance = radius_of_earth * c\n",
    "            print('distance', distance)\n",
    "\n",
    "            \n",
    "            print('dheading', dheading)\n",
    "            print('heading2', heading2)\n",
    "            dheading = dheading/180 * 3.14159\n",
    "            heading2 = heading2/180*3.14159\n",
    "\n",
    "            \n",
    "            rotation_matrix = np.array([[np.cos(heading2),-np.sin(heading2),0],\n",
    "                           [np.sin(heading2),np.cos(heading2),0],\n",
    "                           [0,0,1]])\n",
    "\n",
    "            self.rotation_matrix = rotation_matrix\n",
    "            self.displacement = [-np.cos(dheading)*distance, np.sin(dheading)*distance, 0]\n",
    "#             self.displacement = [np.sin(dheading)*distance, np.cos(dheading)*distance, 0]    \n",
    "\n",
    "    \n",
    "#     for offset_i in np.linspace(0, 1, 5):\n",
    "#     for offset_j in np.linspace(0, 1, 5):\n",
    "#         phi = (w-(j+offset_j)-1)/(w-1) * 2* 3.14159 + 0.5*3.14159\n",
    "#         theta = (h-(i+offset_i)-1)/(h-1) * 3.14159\n",
    "    \n",
    "    def calculate_xyz_coordinate(self):\n",
    "        self.calcualte_displacement()\n",
    "        total_count = 0\n",
    "        for i in range(self.h):\n",
    "            for j in range(self.w):\n",
    "                if self.depth[i,j] < 1e7:\n",
    "                    for offset_i in [0, 0.33,0.66]:\n",
    "                        for offset_j in [0, 0.33,0.66]:\n",
    "                            phi = (1-(self.w-(j+offset_j)-1)/(self.w-1)) * 2* 3.14159 - 3.14159\n",
    "                            theta = (self.h-(i+offset_i)-1)/(self.h-1) * 3.14159\n",
    "\n",
    "    #                         phi = (1-(self.w-j-1)/(self.w-1)) * 2* 3.14159 - 3.14159\n",
    "    #                         theta = (self.h-i-1)/(self.h-1) * 3.14159\n",
    "                            v = np.array([np.sin(theta)*np.cos(phi), np.sin(theta)*np.sin(phi), np.cos(theta)])\n",
    "\n",
    "            #                 if total_count == 39596:\n",
    "            #                     print(v,self.depth[i,j])\n",
    "                            v = v @ self.rotation_matrix\n",
    "            #                     if total_count == 39596:\n",
    "            #                         print(copy.copy(v*self.depth[i,j])\n",
    "                            self.points.append(copy.copy(v*self.depth[i,j]) + self.displacement)\n",
    "                            self.selected_index.append(i*self.w + j)\n",
    "                total_count+=1\n",
    "    \n",
    "    def calculate_xyz_coordinate(self):\n",
    "        self.calcualte_displacement()\n",
    "        total_count = 0\n",
    "        for i in range(self.h):\n",
    "            for j in range(self.w):\n",
    "                if self.depth[i,j] < 1e7:\n",
    "                    phi = (1-(self.w-j-1)/(self.w-1)) * 2* 3.14159 - 3.14159\n",
    "                    theta = (self.h-i-1)/(self.h-1) * 3.14159\n",
    "\n",
    "#                         phi = (1-(self.w-j-1)/(self.w-1)) * 2* 3.14159 - 3.14159\n",
    "#                         theta = (self.h-i-1)/(self.h-1) * 3.14159\n",
    "                    v = np.array([-np.sin(theta)*np.cos(phi), -np.sin(theta)*np.sin(phi), np.cos(theta)])\n",
    "\n",
    "    #                 if total_count == 39596:\n",
    "    #                     print(v,self.depth[i,j])\n",
    "                    v = v @ self.rotation_matrix\n",
    "    #                     if total_count == 39596:\n",
    "    #                         print(copy.copy(v*self.depth[i,j])\n",
    "                    self.points.append(copy.copy(v*self.depth[i,j]) + self.displacement)\n",
    "                    self.selected_index.append(i*self.w + j)\n",
    "                total_count+=1\n",
    "    "
   ]
  },
  {
   "cell_type": "code",
   "execution_count": null,
   "id": "a691aeaf",
   "metadata": {},
   "outputs": [],
   "source": []
  },
  {
   "cell_type": "code",
   "execution_count": 6,
   "id": "23852f44",
   "metadata": {},
   "outputs": [
    {
     "data": {
      "text/plain": [
       "['37.78830013768426_-122.40846027989743_170.83008.csv',\n",
       " '37.78821012735193_-122.4084428221603_170.85738.csv',\n",
       " '37.787599568596534_-122.40665511724181_261.94516.csv',\n",
       " '37.78838501720517_-122.40790629781468_79.82836.csv',\n",
       " '37.78786461006454_-122.40809280256104_264.12878.csv',\n",
       " '37.78751727889219_-122.40729838338326_260.26147.csv',\n",
       " '37.78819031373786_-122.40672391225024_170.84293.csv',\n",
       " '37.78833694542047_-122.40824689775292_80.585556.csv',\n",
       " '37.78850309159115_-122.40696927498523_80.36718.csv',\n",
       " '37.78776604613987_-122.40664163479772_170.69772.csv',\n",
       " '37.78781730460772_-122.4070209575172_317.444.csv',\n",
       " '37.78803952488978_-122.40669487315671_171.35109.csv',\n",
       " '37.78781121619188_-122.4082061917539_179.20326.csv',\n",
       " '37.78824441537277_-122.40707505993983_24.926989.csv',\n",
       " '37.78795372456283_-122.4082340204853_338.17398.csv',\n",
       " '37.788443762709406_-122.40744772635011_80.58542.csv',\n",
       " '37.78852089418571_-122.40682243768639_81.20509.csv',\n",
       " '37.787375776479095_-122.40826668898664_170.07405.csv',\n",
       " '37.78785778229486_-122.40665987066721_171.01863.csv',\n",
       " '37.78750312105167_-122.40830151809199_178.75548.csv',\n",
       " '37.788470763148744_-122.40722863807088_80.80982.csv',\n",
       " '37.78804718579809_-122.40787535769965_255.75778.csv',\n",
       " '37.78743694783015_-122.40792012579611_261.1695.csv']"
      ]
     },
     "execution_count": 6,
     "metadata": {},
     "output_type": "execute_result"
    }
   ],
   "source": [
    "\n",
    "\n",
    "im_dir = './'\n",
    "images = []\n",
    "img_paths = []\n",
    "# iterate over images in the directory\n",
    "for f in os.scandir(im_dir):\n",
    "    if f.is_file() and f.name.lower().endswith('.png'):\n",
    "        img_paths.append(f.path[2:])\n",
    "#         images.append(cv2.imread(f.path, cv2.IMREAD_COLOR))\n",
    "\n",
    "# img_paths = [\"40.75794805357645_-73.98553867868135_204.50131.png\",\n",
    "#              \"40.75812700394543_-73.98544263890469_208.43321.png\",\n",
    "#             \"40.758204963957915_-73.9853870416264_208.63332.png\",\n",
    "#             \"40.75828229336389_-73.98533018890905_209.31956.png\",\n",
    "#             \"40.7583595854157_-73.98527360519417_208.13182.png\",\n",
    "#             \"40.75843655632809_-73.98522007034872_207.89609.png\",\n",
    "#             \"40.75851027726113_-73.98516859797068_207.93457.png\"]\n",
    "\n",
    "# color_paths = [\"37.768900652202035_-122.38887243223877_264.93262_depth.png\"]\n",
    "# scenes = []\n",
    "\n",
    "# img_paths = [\"37.78830013768426_-122.40846027989743_170.83008.png\",\n",
    "#              \"37.78833694542047_-122.40824689775292_80.585556.png\",\n",
    "#             \"37.78838501720517_-122.40790629781468_79.82836.png\",\n",
    "#             \"37.788443762709406_-122.40744772635011_80.58542.png\",\n",
    "#             \"37.788470763148744_-122.40722863807088_80.80982.png\",\n",
    "#             \"37.78850309159115_-122.40696927498523_80.36718.png\",\n",
    "#             \"37.78852089418571_-122.40682243768639_81.20509.png\",\n",
    "#             \"37.78819031373786_-122.40672391225024_170.84293.png\",\n",
    "#              \"37.78803952488978_-122.40669487315671_171.35109.png\",\n",
    "\n",
    "#             ]\n",
    "\n",
    "depth_paths = []\n",
    "\n",
    "for i in range(len(img_paths)):\n",
    "    temp = img_paths[i][:-4].split(\"_\")\n",
    "    temp = \"_\".join(temp) + \".csv\"\n",
    "    depth_paths.append(temp)\n",
    "depth_paths"
   ]
  },
  {
   "cell_type": "code",
   "execution_count": 7,
   "id": "15af1ad7",
   "metadata": {},
   "outputs": [],
   "source": [
    "#              \"37.787599568596534_-122.40665511724181_261.94516.png\","
   ]
  },
  {
   "cell_type": "code",
   "execution_count": 8,
   "id": "8b304945",
   "metadata": {},
   "outputs": [],
   "source": [
    "# (-122.40846027989743 + 122.40665511724181) * 20037508/180"
   ]
  },
  {
   "cell_type": "code",
   "execution_count": 9,
   "id": "67e7eae2",
   "metadata": {},
   "outputs": [],
   "source": [
    "# import numpy as np"
   ]
  },
  {
   "cell_type": "code",
   "execution_count": 10,
   "id": "f83b6380",
   "metadata": {},
   "outputs": [],
   "source": [
    "# np.log(np.tan((90+37.78830013768426) * 3.1459/360 ))/ 3.14159 * 20037508.34 - np.log(np.tan((90+37.787599568596534) * 3.1459/360 ))/ 3.14159 * 20037508.34"
   ]
  },
  {
   "cell_type": "code",
   "execution_count": 11,
   "id": "a46e3310",
   "metadata": {},
   "outputs": [],
   "source": [
    "# haversine(37.787375776479095, -122.40826668898664, 37.787599568596534, -122.40665511724181)"
   ]
  },
  {
   "cell_type": "code",
   "execution_count": 12,
   "id": "28e26f85",
   "metadata": {},
   "outputs": [],
   "source": [
    "scenes = []\n",
    "for img_path, depth_path in zip(img_paths, depth_paths):\n",
    "    temp = Scene(img_path, depth_path)\n",
    "    scenes.append(copy.deepcopy(temp))"
   ]
  },
  {
   "cell_type": "code",
   "execution_count": 13,
   "id": "25066573",
   "metadata": {},
   "outputs": [
    {
     "name": "stdout",
     "output_type": "stream",
     "text": [
      "distance 0.0\n",
      "dheading 0.0\n",
      "heading2 170.83008\n",
      "distance 10.125581009522211\n",
      "dheading 171.28583725011868\n",
      "heading2 170.85738\n",
      "distance 176.72504878139964\n",
      "dheading 116.15423733763356\n",
      "heading2 261.94516\n",
      "distance 49.58770980251007\n",
      "dheading 79.02768513219218\n",
      "heading2 79.82836\n",
      "distance 58.207416222011084\n",
      "dheading 146.30455620999305\n",
      "heading2 264.12878\n",
      "distance 134.1737019812726\n",
      "dheading 130.44983566026156\n",
      "heading2 260.26147\n",
      "distance 153.07157117982067\n",
      "dheading 94.57539895451913\n",
      "heading2 170.84293\n",
      "distance 19.192462294099496\n",
      "dheading 77.68699626088039\n",
      "heading2 80.585556\n",
      "distance 132.9514115554063\n",
      "dheading 80.22678947510605\n",
      "heading2 80.36718\n",
      "distance 170.49213962504456\n",
      "dheading 110.38500689628074\n",
      "heading2 170.69772\n",
      "distance 137.4042452563946\n",
      "dheading 112.99986861926413\n",
      "heading2 317.444\n",
      "distance 157.8190108389319\n",
      "dheading 100.58026474534404\n",
      "heading2 171.35109\n",
      "distance 58.77211613303355\n",
      "dheading 157.6719565289144\n",
      "heading2 179.20326\n",
      "distance 121.88403981030217\n",
      "dheading 92.91357070369975\n",
      "heading2 24.926989\n",
      "distance 43.3481433822141\n",
      "dheading 152.69854503522242\n",
      "heading2 338.17398\n",
      "distance 90.40007331548108\n",
      "dheading 79.82429149755819\n",
      "heading2 80.58542\n",
      "distance 146.00368966593942\n",
      "dheading 80.32069278811502\n",
      "heading2 81.20509\n",
      "distance 104.18259654936993\n",
      "dheading 170.60219601075846\n",
      "heading2 170.07405\n",
      "distance 165.68152344382122\n",
      "dheading 107.26989600326476\n",
      "heading2 171.01863\n",
      "distance 89.71559746062388\n",
      "dheading 171.05396631538315\n",
      "heading2 178.75548\n",
      "distance 109.88093870415732\n",
      "dheading 80.05683657939761\n",
      "heading2 80.80982\n",
      "distance 58.5927285215614\n",
      "dheading 118.68806154871885\n",
      "heading2 255.75778\n",
      "distance 107.07785458503953\n",
      "dheading 153.68606606054357\n",
      "heading2 261.1695\n"
     ]
    }
   ],
   "source": [
    "for scene in scenes:\n",
    "    scene.calculate_xyz_coordinate()"
   ]
  },
  {
   "cell_type": "code",
   "execution_count": 14,
   "id": "226158db",
   "metadata": {},
   "outputs": [],
   "source": [
    "points = []\n",
    "colors = None"
   ]
  },
  {
   "cell_type": "code",
   "execution_count": 15,
   "id": "1a63bb77",
   "metadata": {},
   "outputs": [
    {
     "name": "stdout",
     "output_type": "stream",
     "text": [
      "<class 'NoneType'>\n"
     ]
    }
   ],
   "source": [
    "print(type(None))"
   ]
  },
  {
   "cell_type": "code",
   "execution_count": 16,
   "id": "ce30050a",
   "metadata": {},
   "outputs": [],
   "source": [
    "for scene in scenes:\n",
    "    temp_points = scene.points\n",
    "#     print(temp_points)\n",
    "    points += temp_points\n",
    "    temp_colors = scene.colors\n",
    "    temp_colors = temp_colors.reshape(-1,3)\n",
    "    temp_colors = temp_colors[scene.selected_index]\n",
    "#     temp_colors = list(temp_colors)\n",
    "#     print(temp_colors)\n",
    "    if colors is None:\n",
    "        colors = temp_colors\n",
    "    else:\n",
    "        colors =  np.concatenate((colors, temp_colors),axis=0)\n",
    "#     print(type(temp_colors))"
   ]
  },
  {
   "cell_type": "code",
   "execution_count": 17,
   "id": "902befd0",
   "metadata": {},
   "outputs": [
    {
     "name": "stdout",
     "output_type": "stream",
     "text": [
      "(1915321, 3)\n",
      "(1915321, 3)\n"
     ]
    }
   ],
   "source": [
    "points = np.array(points)\n",
    "print(points.shape)\n",
    "print(colors.shape)"
   ]
  },
  {
   "cell_type": "code",
   "execution_count": 18,
   "id": "75c92713",
   "metadata": {},
   "outputs": [
    {
     "name": "stdout",
     "output_type": "stream",
     "text": [
      "264.737290352214\n"
     ]
    }
   ],
   "source": [
    "print(np.max(points[:,0])-np.min(points[:,0]))"
   ]
  },
  {
   "cell_type": "code",
   "execution_count": 19,
   "id": "2feec6be",
   "metadata": {},
   "outputs": [
    {
     "name": "stdout",
     "output_type": "stream",
     "text": [
      "278.2957587968565\n"
     ]
    }
   ],
   "source": [
    "print(np.max(points[:,1])-np.min(points[:,1]))"
   ]
  },
  {
   "cell_type": "code",
   "execution_count": 20,
   "id": "42bd8ebb",
   "metadata": {},
   "outputs": [
    {
     "name": "stdout",
     "output_type": "stream",
     "text": [
      "65.10910038406342\n"
     ]
    }
   ],
   "source": [
    "print(np.max(points[:,2])-np.min(points[:,2]))"
   ]
  },
  {
   "cell_type": "code",
   "execution_count": 21,
   "id": "56e4c684",
   "metadata": {},
   "outputs": [],
   "source": [
    "# distances = np.linalg.norm(points[:, np.newaxis, :] - points, axis=2)\n",
    "\n",
    "# # Set diagonal elements to zero to avoid comparing a point to itself\n",
    "# np.fill_diagonal(distances, 0)\n",
    "\n",
    "# # Find the maximum distance\n",
    "# max_distance = np.max(distances)"
   ]
  },
  {
   "cell_type": "code",
   "execution_count": 22,
   "id": "63425f82",
   "metadata": {},
   "outputs": [
    {
     "name": "stdout",
     "output_type": "stream",
     "text": [
      "Statistical oulier removal\n",
      "\u001b[1;33m[Open3D WARNING] GLFW Error: Cocoa: Failed to find service port for display\u001b[0;m\n",
      "\u001b[1;33m[Open3D WARNING] GLFW Error: Cocoa: Failed to find service port for display\u001b[0;m\n",
      "\u001b[1;33m[Open3D WARNING] GLFW Error: Cocoa: Failed to find service port for display\u001b[0;m\n",
      "\u001b[1;33m[Open3D WARNING] GLFW Error: Cocoa: Failed to find service port for display\u001b[0;m\n"
     ]
    }
   ],
   "source": [
    "import open3d as o3d\n",
    "import numpy as np\n",
    "\n",
    "# Define a list of points (replace this with your own coordinates)\n",
    "# points = np.array(points)\n",
    "# Create a point cloud\n",
    "mesh_frame = o3d.geometry.TriangleMesh.create_coordinate_frame(size=1.0, origin=[0, 0, 0])\n",
    "point_cloud = o3d.geometry.PointCloud()\n",
    "point_cloud.points = o3d.utility.Vector3dVector(points)\n",
    "point_cloud.colors = o3d.utility.Vector3dVector(colors)\n",
    "\n",
    "print(\"Statistical oulier removal\")\n",
    "cl, ind = point_cloud.remove_statistical_outlier(nb_neighbors=20,\n",
    "                                                    std_ratio=2.0)\n",
    "\n",
    "flip_y_matrix = np.array([[1.0, 0.0, 0.0, 0.0], [0.0, -1.0, 0.0, 0.0], [0.0, 0.0, 1.0, 0.0], [0.0, 0.0, 0.0, 1.0]], dtype=np.float64)\n",
    "\n",
    "\n",
    "# Apply the transformation to the point cloud\n",
    "point_cloud.transform(flip_y_matrix)\n",
    "# o3d.io.write_point_cloud(\"times_square.ply\", point_cloud)\n",
    "\n",
    "# point_clouds = []\n",
    "# for i in range(-5,5):\n",
    "#     for j in range(-5, 5):\n",
    "#         points_2 = copy.copy(points)\n",
    "#         points_2[:,0] += 0.1 * i\n",
    "#         points_2[:,1] += 0.1 * j\n",
    "#         point_cloud_2 = o3d.geometry.PointCloud()\n",
    "#         point_cloud_2.points = o3d.utility.Vector3dVector(points_2)\n",
    "#         point_cloud_2.colors = o3d.utility.Vector3dVector(colors)\n",
    "#         point_clouds.append(copy.deepcopy(point_cloud_2))\n",
    "\n",
    "# kdtree = o3d.geometry.KDTreeFlann(point_cloud)\n",
    "# distances, _ = kdtree.search_knn_vector_3d(point_cloud.points, k=2)  # k=2 to get the distances to the two nearest neighbors\n",
    "\n",
    "# # Extract the farthest neighbor distance for each point\n",
    "# farthest_distances = np.max(distances, axis=1)\n",
    "\n",
    "# # Print the maximum distance\n",
    "# max_distance = np.max(farthest_distances)\n",
    "# print(\"Maximum Distance:\", max_distance)\n",
    "\n",
    "\n",
    "# point_cloud.estimate_normals()\n",
    "# # print('run Poisson surface reconstruction')\n",
    "# with o3d.utility.VerbosityContextManager(\n",
    "#         o3d.utility.VerbosityLevel.Debug) as cm:\n",
    "#     mesh, densities = o3d.geometry.TriangleMesh.create_from_point_cloud_poisson(\n",
    "#         point_cloud, depth=9)\n",
    "# vertices_to_remove = densities < np.quantile(densities, 0.05)\n",
    "# mesh.remove_vertices_by_mask(vertices_to_remove)\n",
    "# # print(mesh)\n",
    "# o3d.visualization.draw_geometries([mesh,point_cloud])\n",
    "\n",
    "\n",
    "\n",
    "# Visualize the point cloud\n",
    "\n",
    "\n",
    "\n",
    "o3d.visualization.draw_geometries([mesh_frame, point_cloud] )\n",
    "# o3d.visualization.draw_geometries([], window_name=\"Open3D\", width=800, height=600)"
   ]
  },
  {
   "cell_type": "code",
   "execution_count": null,
   "id": "3bd86334",
   "metadata": {},
   "outputs": [],
   "source": []
  },
  {
   "cell_type": "code",
   "execution_count": null,
   "id": "b79a6fab",
   "metadata": {},
   "outputs": [],
   "source": []
  },
  {
   "cell_type": "code",
   "execution_count": null,
   "id": "f4cb1058",
   "metadata": {},
   "outputs": [],
   "source": []
  }
 ],
 "metadata": {
  "kernelspec": {
   "display_name": "Python 3 (ipykernel)",
   "language": "python",
   "name": "python3"
  },
  "language_info": {
   "codemirror_mode": {
    "name": "ipython",
    "version": 3
   },
   "file_extension": ".py",
   "mimetype": "text/x-python",
   "name": "python",
   "nbconvert_exporter": "python",
   "pygments_lexer": "ipython3",
   "version": "3.9.13"
  }
 },
 "nbformat": 4,
 "nbformat_minor": 5
}
